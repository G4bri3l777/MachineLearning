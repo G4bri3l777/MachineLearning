{
  "cells": [
    {
      "cell_type": "markdown",
      "metadata": {
        "id": "r8F9c6Mi5XcV"
      },
      "source": [
        "# Model-Agnostic Meta-Learning\n",
        "In this homework, we will learn and implement MAML algorithm from scratch through two toy examples: a regression task and a classification task."
      ]
    },
    {
      "cell_type": "markdown",
      "metadata": {
        "id": "pSH1YYyhuvdu"
      },
      "source": [
        "# Part 1: Regression on Sine Waves [40 pts]\n",
        "Following our lecture slides, we will use a simple regression task to illustrate the basic principles of MAML.\n",
        "\n",
        "The goal is to best fit a sine curve by using a very small number of data points sampled from the curve.\n",
        "To achieve this few-shot learning goal, we need to apply MAML to learn an optimal initialization of the regressor from a series of (Totally 1,000 in our case) training tasks.\n",
        "\n",
        "Each training task will repeat:\n",
        "1. Given a target sine curve $y = a sin (x + b)$;\n",
        "\n",
        "2. Sample $k=10$ data points from the target sine curve;\n",
        "\n",
        "3. Use the data samples to estimate $a$ and $b$.\n",
        "\n",
        "\n",
        "The range of amplitude: $a \\in [0.1,0.5]$. The range of phase: $b \\in [0,\\pi]$. The input $x$ are uniformly sampled from $[-5.0,5.0]$."
      ]
    },
    {
      "cell_type": "code",
      "execution_count": 1,
      "metadata": {
        "id": "HKKID0AeqdWG"
      },
      "outputs": [],
      "source": [
        "#import packages\n",
        "import torch\n",
        "import torch.nn as nn\n",
        "import torch.nn.functional as F\n",
        "import numpy as np\n",
        "from collections import OrderedDict\n",
        "import matplotlib.pyplot as plt\n",
        "%matplotlib inline\n",
        "import copy"
      ]
    },
    {
      "cell_type": "code",
      "execution_count": 2,
      "metadata": {
        "id": "45C0q_FJ0jQx",
        "outputId": "52f90c72-4676-445e-b611-fbd584a92cd6",
        "colab": {
          "base_uri": "https://localhost:8080/"
        }
      },
      "outputs": [
        {
          "output_type": "stream",
          "name": "stdout",
          "text": [
            "cpu\n"
          ]
        }
      ],
      "source": [
        "device=torch.device(\"cuda\" if torch.cuda.is_available() else \"cpu\")\n",
        "print(device)"
      ]
    },
    {
      "cell_type": "markdown",
      "metadata": {
        "id": "xaG5ENRLzFph"
      },
      "source": [
        "### Generate sinusoid datasets"
      ]
    },
    {
      "cell_type": "code",
      "execution_count": 3,
      "metadata": {
        "id": "ggqb_kgX1AFV"
      },
      "outputs": [],
      "source": [
        "class SineTask():\n",
        "    def __init__(self,amp,phase,min_x,max_x):\n",
        "        self.phase=phase # Sine wave phase\n",
        "        self.max_x=max_x\n",
        "        self.min_x=min_x\n",
        "        self.amp=amp # Sine wave amplitude\n",
        "\n",
        "    def sample_data(self,size=1):\n",
        "        x=np.random.uniform(self.max_x,self.min_x,size)\n",
        "        y=self.true_sine(x)\n",
        "        x=torch.tensor(x, dtype=torch.float).unsqueeze(1)\n",
        "        y=torch.tensor(y, dtype=torch.float).unsqueeze(1)\n",
        "        return x,y\n",
        "\n",
        "    def true_sine(self,x):\n",
        "        y=self.amp*np.sin(self.phase+x)\n",
        "        return y\n",
        "\n",
        "class SineDistribution():\n",
        "    def __init__(self,min_amp,max_amp,min_phase,max_phase,min_x,max_x):\n",
        "        self.min_amp=min_amp\n",
        "        self.max_phase=max_phase\n",
        "        self.min_phase=min_phase\n",
        "        self.max_amp=max_amp\n",
        "        self.min_x=min_x\n",
        "        self.max_x=max_x\n",
        "\n",
        "    def sample_task(self):\n",
        "        amp = np.random.uniform(self.min_amp, self.max_amp)\n",
        "        phase = np.random.uniform(self.min_phase, self.max_phase)\n",
        "        return SineTask(amp, phase, self.min_x, self.max_x)"
      ]
    },
    {
      "cell_type": "markdown",
      "metadata": {
        "id": "tCFVySkAzI-7"
      },
      "source": [
        "### Train the regression model\n",
        "\n",
        "we will apply MAML to learn an optimal initialization of the regressor from 1,000 training tasks (sine curves)."
      ]
    },
    {
      "cell_type": "markdown",
      "metadata": {
        "id": "Zv9ColPdyX8_"
      },
      "source": [
        "#### Model definition\n",
        "\n",
        "\n",
        "> *The regressor\n",
        "is a neural network model with 2 hidden layers of size\n",
        "40 with ReLU nonlinearities.*"
      ]
    },
    {
      "cell_type": "code",
      "execution_count": 4,
      "metadata": {
        "id": "kxb3gy56FfmV"
      },
      "outputs": [],
      "source": [
        "in_features = 1\n",
        "hidden_size = 40\n",
        "out_features = 1"
      ]
    },
    {
      "cell_type": "code",
      "execution_count": 5,
      "metadata": {
        "id": "VUkvASxN1KNe"
      },
      "outputs": [],
      "source": [
        "# Define SineNet\n",
        "class SineNet(nn.Module):\n",
        "    def __init__(self):\n",
        "        super(SineNet,self).__init__()\n",
        "        self.net=nn.Sequential(OrderedDict([\n",
        "            # INSERT CODE HERE\n",
        "            ('l1', nn.Linear(in_features, hidden_size)),\n",
        "            ('r1', nn.ReLU()),\n",
        "            ('l2', nn.Linear(hidden_size, hidden_size)),\n",
        "            ('r2', nn.ReLU()),\n",
        "            ('l3', nn.Linear(hidden_size, out_features))\n",
        "            # END CODE HERE\n",
        "            ]))\n",
        "\n",
        "    def forward(self,x):\n",
        "        return self.net(x)\n",
        "\n",
        "    # Assign 'weights' to the model. This function is useful to compute the adapted(fast) parameters in inner-loop\n",
        "    def argforward(self,x,weights):\n",
        "        x=F.linear(x,weights[0],weights[1])\n",
        "        x=F.relu(x)\n",
        "        x=F.linear(x,weights[2],weights[3])\n",
        "        x=F.relu(x)\n",
        "        x=F.linear(x,weights[4],weights[5])\n",
        "        return x"
      ]
    },
    {
      "cell_type": "markdown",
      "metadata": {
        "id": "Kl6r_HHOzbHO"
      },
      "source": [
        "#### Training implementation"
      ]
    },
    {
      "cell_type": "code",
      "execution_count": 6,
      "metadata": {
        "id": "NWe2dN9u1VEp"
      },
      "outputs": [],
      "source": [
        "# Define implementation class\n",
        "class SineMAML():\n",
        "    def __init__(self,net,alpha,beta,tasks,k,num_metatasks):\n",
        "        self.net=net\n",
        "        self.weights=list(net.parameters())\n",
        "        self.alpha=alpha\n",
        "        self.beta=beta\n",
        "        self.tasks=tasks\n",
        "        self.k=k\n",
        "        self.num_tasks_meta=num_metatasks\n",
        "        self.criterion=nn.MSELoss() # Define the loss function\n",
        "        self.meta_optimiser=torch.optim.Adam(self.weights,self.beta) # Define the optimizer\n",
        "        self.meta_losses=[] # Collect the training loss for visulization\n",
        "        self.plot_every =1  # loss plot interval\n",
        "        self.print_every = 5 # loss print interval\n",
        "        self.num_metatasks=num_metatasks\n",
        "\n",
        "    def inner_loop(self,task):\n",
        "        temp_weights=[w.clone() for w in self.weights] # Get initial model weights. 'temp_weights' is used to compute adapted(fast) weights\n",
        "        x,y=task.sample_data(size=self.k) # Sample K-shot data of the task as training set\n",
        "        x=x.to(device)\n",
        "        y=y.to(device)\n",
        "\n",
        "        # Meta-train and get updated 'temp_weights'\n",
        "        # INSERT CODE HERE\n",
        "        steps=5\n",
        "        for i in range(steps):\n",
        "          pred = self.net.argforward(x, temp_weights)\n",
        "          loss = self.criterion(pred, y)\n",
        "          grad = torch.autograd.grad(loss, temp_weights)\n",
        "          temp_weights = [w - self.alpha * g for w, g in zip(temp_weights, grad)]\n",
        "\n",
        "        # END CODE HERE\n",
        "\n",
        "        x,y=task.sample_data(size=self.k) # Sample K-shot data of the task as validation set\n",
        "        x=x.to(device)\n",
        "        y=y.to(device)\n",
        "\n",
        "        # Meta-validate using the new 'temp_weights' and compute 'metaloss'\n",
        "        # INSERT CODE HERE\n",
        "        pred = self.net.argforward(x, temp_weights)\n",
        "        metaloss = self.criterion(pred, y)\n",
        "        # END CODE HERE\n",
        "\n",
        "        return metaloss\n",
        "\n",
        "    def outer_loop(self,num_epochs):\n",
        "        total_loss=0\n",
        "        for epoch in range(1,num_epochs+1):\n",
        "            metaloss_sum=0\n",
        "\n",
        "            # Meta-train and meta-validate on each task\n",
        "            for i in range(self.num_metatasks):\n",
        "                task=self.tasks.sample_task()\n",
        "                metaloss=self.inner_loop(task)\n",
        "                metaloss_sum+=metaloss\n",
        "\n",
        "            # Meta-update using 'metaloss_sum'\n",
        "            # INSERT CODE HERE\n",
        "            self.meta_optimiser.zero_grad()\n",
        "            metaloss_sum.backward()\n",
        "            self.meta_optimiser.step()\n",
        "            # END CODE HERE\n",
        "\n",
        "            total_loss+=metaloss_sum.item()/self.num_metatasks\n",
        "            if epoch % self.print_every == 0:\n",
        "                print(\"{}/{}. loss: {}\".format(epoch, num_epochs, total_loss / self.plot_every))\n",
        "            if epoch%self.plot_every==0:\n",
        "                self.meta_losses.append(total_loss/self.plot_every)\n",
        "                total_loss = 0\n",
        "            if (epoch%100)==0:\n",
        "                print(\"Epoch \"+str(epoch)+\" completed.\")"
      ]
    },
    {
      "cell_type": "markdown",
      "metadata": {
        "id": "qBb0RxPKz35E"
      },
      "source": [
        "#### Train the model"
      ]
    },
    {
      "cell_type": "code",
      "execution_count": 7,
      "metadata": {
        "id": "wMAFnYDx1bmn"
      },
      "outputs": [],
      "source": [
        "sine_tasks=SineDistribution(0.1, 5, 0, np.pi, -5, 5)\n",
        "net=SineNet()\n",
        "net=net.to(device)\n",
        "maml=SineMAML(net,alpha=0.01,beta=0.001,tasks=sine_tasks,k=10,num_metatasks=1000)"
      ]
    },
    {
      "cell_type": "code",
      "execution_count": 8,
      "metadata": {
        "colab": {
          "base_uri": "https://localhost:8080/"
        },
        "id": "-Gh7qZl41lIq",
        "outputId": "5b473766-1ce1-4595-9270-3943139f94c7"
      },
      "outputs": [
        {
          "output_type": "stream",
          "name": "stdout",
          "text": [
            "5/50. loss: 3.969467041015625\n",
            "10/50. loss: 3.479962158203125\n",
            "15/50. loss: 3.493092529296875\n",
            "20/50. loss: 3.52473681640625\n",
            "25/50. loss: 3.212779541015625\n",
            "30/50. loss: 3.350573974609375\n",
            "35/50. loss: 3.162718994140625\n",
            "40/50. loss: 3.252583984375\n",
            "45/50. loss: 3.329578857421875\n",
            "50/50. loss: 2.9627578125\n"
          ]
        }
      ],
      "source": [
        "# Train the model for 100 epoches\n",
        "maml.outer_loop(num_epochs=50)"
      ]
    },
    {
      "cell_type": "code",
      "execution_count": 9,
      "metadata": {
        "colab": {
          "base_uri": "https://localhost:8080/",
          "height": 474
        },
        "id": "taEIH0Nx2bqT",
        "outputId": "e2202d5b-7f8f-4d26-a724-04f26707f6c0"
      },
      "outputs": [
        {
          "output_type": "display_data",
          "data": {
            "text/plain": [
              "<Figure size 640x480 with 1 Axes>"
            ],
            "image/png": "[encoded data removed]"
          },
          "metadata": {}
        }
      ],
      "source": [
        "# Plot the training loss\n",
        "plt.plot(maml.meta_losses,  label=\"Training Loss\")\n",
        "plt.title('Loss Vs Training epoches', fontsize=15)\n",
        "plt.xlabel(\"Epoches\")\n",
        "plt.ylabel(\"Loss\")\n",
        "plt.legend()\n",
        "plt.show()"
      ]
    },
    {
      "cell_type": "markdown",
      "metadata": {
        "id": "HCn-ZPyA03qN"
      },
      "source": [
        "### Test the regression model\n",
        "\n",
        "After training, we have learned an optimal initialization for the regressor. At testing time, we expect the regressor can quickly fit a new sine curver using few-shot (e.g. 10) data examples."
      ]
    },
    {
      "cell_type": "code",
      "execution_count": 10,
      "metadata": {
        "id": "G4pdozgki3np"
      },
      "outputs": [],
      "source": [
        "# Test the meta-learned model\n",
        "def test(og_net,x,y,lr,optim=torch.optim.SGD):\n",
        "    axis=np.linspace(-5,5,1000)\n",
        "    axis=torch.tensor(axis,dtype=torch.float)\n",
        "    axis=axis.to(device)\n",
        "    dummy_net = nn.Sequential(OrderedDict([\n",
        "        ('l1', nn.Linear(1,40)),\n",
        "        ('relu1', nn.ReLU()),\n",
        "        ('l2', nn.Linear(40,40)),\n",
        "        ('relu2', nn.ReLU()),\n",
        "        ('l3', nn.Linear(40,1))\n",
        "    ]))\n",
        "    dummy_net=dummy_net.to(device)\n",
        "    dummy_net.load_state_dict(og_net.state_dict()) # Load initial weights\n",
        "    loss_fn=nn.MSELoss()\n",
        "    opt=optim(dummy_net.parameters(),lr=lr)\n",
        "    steps=10 # Number of steps to fine-tune the meta-learned model\n",
        "    k=x.shape[0]\n",
        "    losses=[]\n",
        "    outputs={}\n",
        "\n",
        "    # Fine-tune the meta-learned model on the new task\n",
        "    for _ in range(steps):\n",
        "        # INSERT CODE HERE\n",
        "        opt.zero_grad()\n",
        "        pred = dummy_net(x.view(-1, 1))\n",
        "        loss = loss_fn(pred, y.view(-1, 1))\n",
        "        loss.backward()\n",
        "        opt.step()\n",
        "        losses.append(loss.item())\n",
        "        # END CODE HERE\n",
        "\n",
        "    # Results of the fine-tuned model\n",
        "    outputs['minitrained']= dummy_net(axis.view(-1, 1)).detach().cpu().clone().numpy()\n",
        "    # Results of the model without fine-tuning\n",
        "    outputs['initial']= og_net(torch.tensor(axis).view(-1, 1)).detach().cpu().clone().numpy()\n",
        "    return outputs,axis\n"
      ]
    },
    {
      "cell_type": "code",
      "execution_count": 11,
      "metadata": {
        "id": "XF6bFelveIIH"
      },
      "outputs": [],
      "source": [
        "# Plot the comparison results\n",
        "def plot_test(og_net,x,y,task,optim=torch.optim.SGD,lr=0.01):\n",
        "    outputs,axis=test(og_net,x,y,lr,optim)\n",
        "    plt.figure(figsize=(10,5))\n",
        "    plt.plot(axis.cpu().clone().numpy(),task.true_sine(axis.cpu().clone().numpy()), '-', color=(0, 0, 1, 0.5), label='true sine')\n",
        "    plt.scatter(x.cpu().clone().numpy(), y.cpu().clone().numpy(), label='data')\n",
        "    plt.plot(axis.cpu().clone().numpy(), outputs['initial'], ':', color=(0.7, 0, 0, 1), label='initial weights')\n",
        "    plt.plot(axis.cpu().clone().numpy(), outputs['minitrained'], '-', color=(0.5, 0, 0, 1), label='minitrained weights')\n",
        "    plt.legend(loc='lower right')\n",
        "    plt.show()"
      ]
    },
    {
      "cell_type": "code",
      "execution_count": 12,
      "metadata": {
        "colab": {
          "base_uri": "https://localhost:8080/",
          "height": 502
        },
        "id": "qzbzG5M0eKsJ",
        "outputId": "09d8126c-16c6-42d7-e725-f7f4f184fc4b"
      },
      "outputs": [
        {
          "output_type": "stream",
          "name": "stderr",
          "text": [
            "<ipython-input-10-5a0218f468c2>:36: UserWarning: To copy construct from a tensor, it is recommended to use sourceTensor.clone().detach() or sourceTensor.clone().detach().requires_grad_(True), rather than torch.tensor(sourceTensor).\n",
            "  outputs['initial']= og_net(torch.tensor(axis).view(-1, 1)).detach().cpu().clone().numpy()\n"
          ]
        },
        {
          "output_type": "display_data",
          "data": {
            "text/plain": [
              "<Figure size 1000x500 with 1 Axes>"
            ],
            "image/png": "[encoded data removed]"
          },
          "metadata": {}
        }
      ],
      "source": [
        "K=10 # Batchsize for the new task\n",
        "task=sine_tasks.sample_task() # Sample a new sine wave as new task\n",
        "x,y=task.sample_data(K) # Sample K-shot data from the task\n",
        "x=x.to(device)\n",
        "y=y.to(device)\n",
        "# Visualized the true sine, predicted sine of the fine-tuned model, and predicted sine of the model without fine-tuning\n",
        "plot_test(og_net=maml.net.net,x=x,y=y,task=task)"
      ]
    },
    {
      "cell_type": "markdown",
      "metadata": {
        "id": "C8VZNXf9DQlL"
      },
      "source": [
        "# Part 2: Classification on Omniglot [60 pts]\n",
        "Following our lecture slides of few-shot classification, we will leverage MAML to learn a Convolutional Neural Network on the Omniglot dataset.\n",
        "\n",
        "The Omniglot Dataset can be found: https://github.com/brendenlake/omniglot. We will use \"images_background\" for training and \"images_evaluation\" for test."
      ]
    },
    {
      "cell_type": "code",
      "source": [
        "from google.colab import drive\n",
        "drive.mount('/content/drive')"
      ],
      "metadata": {
        "colab": {
          "base_uri": "https://localhost:8080/"
        },
        "id": "Fxisppv3VgVf",
        "outputId": "b384e7d6-46fc-4fbb-c856-116c235d2196"
      },
      "execution_count": 13,
      "outputs": [
        {
          "output_type": "stream",
          "name": "stdout",
          "text": [
            "Mounted at /content/drive\n"
          ]
        }
      ]
    },
    {
      "cell_type": "code",
      "execution_count": 14,
      "metadata": {
        "id": "VmlE5p0pNcaS",
        "outputId": "825ee45d-c11a-4273-ec1d-b5b4621d7099",
        "colab": {
          "base_uri": "https://localhost:8080/"
        }
      },
      "outputs": [
        {
          "output_type": "stream",
          "name": "stdout",
          "text": [
            "/content/drive/MyDrive/HW5/HWDATA/Data\n"
          ]
        }
      ],
      "source": [
        "\n",
        "# for Google Colab\n",
        "\n",
        "%cd \"/content/drive/MyDrive/HW5/HWDATA/Data\"\n",
        "\n"
      ]
    },
    {
      "cell_type": "code",
      "execution_count": 15,
      "metadata": {
        "id": "GbDCobJPOdYR"
      },
      "outputs": [],
      "source": [
        "import pandas as pd\n",
        "import numpy as np\n",
        "import torch\n",
        "from torch.utils.data import Dataset,DataLoader\n",
        "from PIL import Image\n",
        "import torchvision.transforms as transforms\n",
        "import torch.nn as nn\n",
        "from collections import OrderedDict\n",
        "import torch.nn.functional as F\n",
        "import matplotlib.pyplot as plt\n",
        "import random\n",
        "%matplotlib inline"
      ]
    },
    {
      "cell_type": "code",
      "execution_count": 16,
      "metadata": {
        "id": "K9QzvKhgN4x6"
      },
      "outputs": [],
      "source": [
        "# for Google Colab; change the path accordingly if you run locally\n",
        "trainframe=pd.read_csv(\"/content/drive/MyDrive/HW5/HWDATA/Data/test_data.csv\")\n",
        "testframe=pd.read_csv(\"/content/drive/MyDrive/HW5/HWDATA/Data/test_data.csv\")\n"
      ]
    },
    {
      "cell_type": "code",
      "execution_count": 17,
      "metadata": {
        "id": "p22mUzm9Ffmb",
        "outputId": "57210415-36dd-4141-ee95-3e3c0422023f",
        "colab": {
          "base_uri": "https://localhost:8080/",
          "height": 206
        }
      },
      "outputs": [
        {
          "output_type": "execute_result",
          "data": {
            "text/plain": [
              "            ID                                               Path  Label\n",
              "0  0965_01.png  Data/images_evaluation/Angelic/character01/096...    964\n",
              "1  0965_02.png  Data/images_evaluation/Angelic/character01/096...    964\n",
              "2  0965_03.png  Data/images_evaluation/Angelic/character01/096...    964\n",
              "3  0965_04.png  Data/images_evaluation/Angelic/character01/096...    964\n",
              "4  0965_05.png  Data/images_evaluation/Angelic/character01/096...    964"
            ],
            "text/html": [
              "\n",
              "  <div id=\"df-5a9bc04b-65f0-4d9b-917b-8ef538ed15c8\" class=\"colab-df-container\">\n",
              "    <div>\n",
              "<style scoped>\n",
              "    .dataframe tbody tr th:only-of-type {\n",
              "        vertical-align: middle;\n",
              "    }\n",
              "\n",
              "    .dataframe tbody tr th {\n",
              "        vertical-align: top;\n",
              "    }\n",
              "\n",
              "    .dataframe thead th {\n",
              "        text-align: right;\n",
              "    }\n",
              "</style>\n",
              "<table border=\"1\" class=\"dataframe\">\n",
              "  <thead>\n",
              "    <tr style=\"text-align: right;\">\n",
              "      <th></th>\n",
              "      <th>ID</th>\n",
              "      <th>Path</th>\n",
              "      <th>Label</th>\n",
              "    </tr>\n",
              "  </thead>\n",
              "  <tbody>\n",
              "    <tr>\n",
              "      <th>0</th>\n",
              "      <td>0965_01.png</td>\n",
              "      <td>Data/images_evaluation/Angelic/character01/096...</td>\n",
              "      <td>964</td>\n",
              "    </tr>\n",
              "    <tr>\n",
              "      <th>1</th>\n",
              "      <td>0965_02.png</td>\n",
              "      <td>Data/images_evaluation/Angelic/character01/096...</td>\n",
              "      <td>964</td>\n",
              "    </tr>\n",
              "    <tr>\n",
              "      <th>2</th>\n",
              "      <td>0965_03.png</td>\n",
              "      <td>Data/images_evaluation/Angelic/character01/096...</td>\n",
              "      <td>964</td>\n",
              "    </tr>\n",
              "    <tr>\n",
              "      <th>3</th>\n",
              "      <td>0965_04.png</td>\n",
              "      <td>Data/images_evaluation/Angelic/character01/096...</td>\n",
              "      <td>964</td>\n",
              "    </tr>\n",
              "    <tr>\n",
              "      <th>4</th>\n",
              "      <td>0965_05.png</td>\n",
              "      <td>Data/images_evaluation/Angelic/character01/096...</td>\n",
              "      <td>964</td>\n",
              "    </tr>\n",
              "  </tbody>\n",
              "</table>\n",
              "</div>\n",
              "    <div class=\"colab-df-buttons\">\n",
              "\n",
              "  <div class=\"colab-df-container\">\n",
              "    <button class=\"colab-df-convert\" onclick=\"convertToInteractive('df-5a9bc04b-65f0-4d9b-917b-8ef538ed15c8')\"\n",
              "            title=\"Convert this dataframe to an interactive table.\"\n",
              "            style=\"display:none;\">\n",
              "\n",
              "  <svg xmlns=\"http://www.w3.org/2000/svg\" height=\"24px\" viewBox=\"0 -960 960 960\">\n",
              "    <path d=\"M120-120v-720h720v720H120Zm60-500h600v-160H180v160Zm220 220h160v-160H400v160Zm0 220h160v-160H400v160ZM180-400h160v-160H180v160Zm440 0h160v-160H620v160ZM180-180h160v-160H180v160Zm440 0h160v-160H620v160Z\"/>\n",
              "  </svg>\n",
              "    </button>\n",
              "\n",
              "  <style>\n",
              "    .colab-df-container {\n",
              "      display:flex;\n",
              "      gap: 12px;\n",
              "    }\n",
              "\n",
              "    .colab-df-convert {\n",
              "      background-color: #E8F0FE;\n",
              "      border: none;\n",
              "      border-radius: 50%;\n",
              "      cursor: pointer;\n",
              "      display: none;\n",
              "      fill: #1967D2;\n",
              "      height: 32px;\n",
              "      padding: 0 0 0 0;\n",
              "      width: 32px;\n",
              "    }\n",
              "\n",
              "    .colab-df-convert:hover {\n",
              "      background-color: #E2EBFA;\n",
              "      box-shadow: 0px 1px 2px rgba(60, 64, 67, 0.3), 0px 1px 3px 1px rgba(60, 64, 67, 0.15);\n",
              "      fill: #174EA6;\n",
              "    }\n",
              "\n",
              "    .colab-df-buttons div {\n",
              "      margin-bottom: 4px;\n",
              "    }\n",
              "\n",
              "    [theme=dark] .colab-df-convert {\n",
              "      background-color: #3B4455;\n",
              "      fill: #D2E3FC;\n",
              "    }\n",
              "\n",
              "    [theme=dark] .colab-df-convert:hover {\n",
              "      background-color: #434B5C;\n",
              "      box-shadow: 0px 1px 3px 1px rgba(0, 0, 0, 0.15);\n",
              "      filter: drop-shadow(0px 1px 2px rgba(0, 0, 0, 0.3));\n",
              "      fill: #FFFFFF;\n",
              "    }\n",
              "  </style>\n",
              "\n",
              "    <script>\n",
              "      const buttonEl =\n",
              "        document.querySelector('#df-5a9bc04b-65f0-4d9b-917b-8ef538ed15c8 button.colab-df-convert');\n",
              "      buttonEl.style.display =\n",
              "        google.colab.kernel.accessAllowed ? 'block' : 'none';\n",
              "\n",
              "      async function convertToInteractive(key) {\n",
              "        const element = document.querySelector('#df-5a9bc04b-65f0-4d9b-917b-8ef538ed15c8');\n",
              "        const dataTable =\n",
              "          await google.colab.kernel.invokeFunction('convertToInteractive',\n",
              "                                                    [key], {});\n",
              "        if (!dataTable) return;\n",
              "\n",
              "        const docLinkHtml = 'Like what you see? Visit the ' +\n",
              "          '<a target=\"_blank\" href=https://colab.research.google.com/notebooks/data_table.ipynb>data table notebook</a>'\n",
              "          + ' to learn more about interactive tables.';\n",
              "        element.innerHTML = '';\n",
              "        dataTable['output_type'] = 'display_data';\n",
              "        await google.colab.output.renderOutput(dataTable, element);\n",
              "        const docLink = document.createElement('div');\n",
              "        docLink.innerHTML = docLinkHtml;\n",
              "        element.appendChild(docLink);\n",
              "      }\n",
              "    </script>\n",
              "  </div>\n",
              "\n",
              "\n",
              "<div id=\"df-79d0c946-5f4c-4d19-99b6-00e7646f201c\">\n",
              "  <button class=\"colab-df-quickchart\" onclick=\"quickchart('df-79d0c946-5f4c-4d19-99b6-00e7646f201c')\"\n",
              "            title=\"Suggest charts\"\n",
              "            style=\"display:none;\">\n",
              "\n",
              "<svg xmlns=\"http://www.w3.org/2000/svg\" height=\"24px\"viewBox=\"0 0 24 24\"\n",
              "     width=\"24px\">\n",
              "    <g>\n",
              "        <path d=\"M19 3H5c-1.1 0-2 .9-2 2v14c0 1.1.9 2 2 2h14c1.1 0 2-.9 2-2V5c0-1.1-.9-2-2-2zM9 17H7v-7h2v7zm4 0h-2V7h2v10zm4 0h-2v-4h2v4z\"/>\n",
              "    </g>\n",
              "</svg>\n",
              "  </button>\n",
              "\n",
              "<style>\n",
              "  .colab-df-quickchart {\n",
              "      --bg-color: #E8F0FE;\n",
              "      --fill-color: #1967D2;\n",
              "      --hover-bg-color: #E2EBFA;\n",
              "      --hover-fill-color: #174EA6;\n",
              "      --disabled-fill-color: #AAA;\n",
              "      --disabled-bg-color: #DDD;\n",
              "  }\n",
              "\n",
              "  [theme=dark] .colab-df-quickchart {\n",
              "      --bg-color: #3B4455;\n",
              "      --fill-color: #D2E3FC;\n",
              "      --hover-bg-color: #434B5C;\n",
              "      --hover-fill-color: #FFFFFF;\n",
              "      --disabled-bg-color: #3B4455;\n",
              "      --disabled-fill-color: #666;\n",
              "  }\n",
              "\n",
              "  .colab-df-quickchart {\n",
              "    background-color: var(--bg-color);\n",
              "    border: none;\n",
              "    border-radius: 50%;\n",
              "    cursor: pointer;\n",
              "    display: none;\n",
              "    fill: var(--fill-color);\n",
              "    height: 32px;\n",
              "    padding: 0;\n",
              "    width: 32px;\n",
              "  }\n",
              "\n",
              "  .colab-df-quickchart:hover {\n",
              "    background-color: var(--hover-bg-color);\n",
              "    box-shadow: 0 1px 2px rgba(60, 64, 67, 0.3), 0 1px 3px 1px rgba(60, 64, 67, 0.15);\n",
              "    fill: var(--button-hover-fill-color);\n",
              "  }\n",
              "\n",
              "  .colab-df-quickchart-complete:disabled,\n",
              "  .colab-df-quickchart-complete:disabled:hover {\n",
              "    background-color: var(--disabled-bg-color);\n",
              "    fill: var(--disabled-fill-color);\n",
              "    box-shadow: none;\n",
              "  }\n",
              "\n",
              "  .colab-df-spinner {\n",
              "    border: 2px solid var(--fill-color);\n",
              "    border-color: transparent;\n",
              "    border-bottom-color: var(--fill-color);\n",
              "    animation:\n",
              "      spin 1s steps(1) infinite;\n",
              "  }\n",
              "\n",
              "  @keyframes spin {\n",
              "    0% {\n",
              "      border-color: transparent;\n",
              "      border-bottom-color: var(--fill-color);\n",
              "      border-left-color: var(--fill-color);\n",
              "    }\n",
              "    20% {\n",
              "      border-color: transparent;\n",
              "      border-left-color: var(--fill-color);\n",
              "      border-top-color: var(--fill-color);\n",
              "    }\n",
              "    30% {\n",
              "      border-color: transparent;\n",
              "      border-left-color: var(--fill-color);\n",
              "      border-top-color: var(--fill-color);\n",
              "      border-right-color: var(--fill-color);\n",
              "    }\n",
              "    40% {\n",
              "      border-color: transparent;\n",
              "      border-right-color: var(--fill-color);\n",
              "      border-top-color: var(--fill-color);\n",
              "    }\n",
              "    60% {\n",
              "      border-color: transparent;\n",
              "      border-right-color: var(--fill-color);\n",
              "    }\n",
              "    80% {\n",
              "      border-color: transparent;\n",
              "      border-right-color: var(--fill-color);\n",
              "      border-bottom-color: var(--fill-color);\n",
              "    }\n",
              "    90% {\n",
              "      border-color: transparent;\n",
              "      border-bottom-color: var(--fill-color);\n",
              "    }\n",
              "  }\n",
              "</style>\n",
              "\n",
              "  <script>\n",
              "    async function quickchart(key) {\n",
              "      const quickchartButtonEl =\n",
              "        document.querySelector('#' + key + ' button');\n",
              "      quickchartButtonEl.disabled = true;  // To prevent multiple clicks.\n",
              "      quickchartButtonEl.classList.add('colab-df-spinner');\n",
              "      try {\n",
              "        const charts = await google.colab.kernel.invokeFunction(\n",
              "            'suggestCharts', [key], {});\n",
              "      } catch (error) {\n",
              "        console.error('Error during call to suggestCharts:', error);\n",
              "      }\n",
              "      quickchartButtonEl.classList.remove('colab-df-spinner');\n",
              "      quickchartButtonEl.classList.add('colab-df-quickchart-complete');\n",
              "    }\n",
              "    (() => {\n",
              "      let quickchartButtonEl =\n",
              "        document.querySelector('#df-79d0c946-5f4c-4d19-99b6-00e7646f201c button');\n",
              "      quickchartButtonEl.style.display =\n",
              "        google.colab.kernel.accessAllowed ? 'block' : 'none';\n",
              "    })();\n",
              "  </script>\n",
              "</div>\n",
              "\n",
              "    </div>\n",
              "  </div>\n"
            ],
            "application/vnd.google.colaboratory.intrinsic+json": {
              "type": "dataframe",
              "variable_name": "trainframe",
              "summary": "{\n  \"name\": \"trainframe\",\n  \"rows\": 13180,\n  \"fields\": [\n    {\n      \"column\": \"ID\",\n      \"properties\": {\n        \"dtype\": \"string\",\n        \"num_unique_values\": 13180,\n        \"samples\": [\n          \"1524_15.png\",\n          \"1269_07.png\",\n          \"1345_01.png\"\n        ],\n        \"semantic_type\": \"\",\n        \"description\": \"\"\n      }\n    },\n    {\n      \"column\": \"Path\",\n      \"properties\": {\n        \"dtype\": \"string\",\n        \"num_unique_values\": 13180,\n        \"samples\": [\n          \"Data/images_evaluation/Sylheti/character22/1524_15.png\",\n          \"Data/images_evaluation/Keble/character24/1269_07.png\",\n          \"Data/images_evaluation/Manipuri/character27/1345_01.png\"\n        ],\n        \"semantic_type\": \"\",\n        \"description\": \"\"\n      }\n    },\n    {\n      \"column\": \"Label\",\n      \"properties\": {\n        \"dtype\": \"number\",\n        \"std\": 190,\n        \"min\": 964,\n        \"max\": 1622,\n        \"num_unique_values\": 659,\n        \"samples\": [\n          1592,\n          1389,\n          1099\n        ],\n        \"semantic_type\": \"\",\n        \"description\": \"\"\n      }\n    }\n  ]\n}"
            }
          },
          "metadata": {},
          "execution_count": 17
        }
      ],
      "source": [
        "trainframe.head()"
      ]
    },
    {
      "cell_type": "code",
      "execution_count": 18,
      "metadata": {
        "id": "tcuWMmU5Ffmb",
        "outputId": "ea3ca5fd-7620-4665-bf7c-78c87b92803e",
        "colab": {
          "base_uri": "https://localhost:8080/",
          "height": 206
        }
      },
      "outputs": [
        {
          "output_type": "execute_result",
          "data": {
            "text/plain": [
              "            ID                                               Path  Label\n",
              "0  0965_01.png  Data/images_evaluation/Angelic/character01/096...    964\n",
              "1  0965_02.png  Data/images_evaluation/Angelic/character01/096...    964\n",
              "2  0965_03.png  Data/images_evaluation/Angelic/character01/096...    964\n",
              "3  0965_04.png  Data/images_evaluation/Angelic/character01/096...    964\n",
              "4  0965_05.png  Data/images_evaluation/Angelic/character01/096...    964"
            ],
            "text/html": [
              "\n",
              "  <div id=\"df-640895e8-3fe5-48b9-a49a-d582004e0a98\" class=\"colab-df-container\">\n",
              "    <div>\n",
              "<style scoped>\n",
              "    .dataframe tbody tr th:only-of-type {\n",
              "        vertical-align: middle;\n",
              "    }\n",
              "\n",
              "    .dataframe tbody tr th {\n",
              "        vertical-align: top;\n",
              "    }\n",
              "\n",
              "    .dataframe thead th {\n",
              "        text-align: right;\n",
              "    }\n",
              "</style>\n",
              "<table border=\"1\" class=\"dataframe\">\n",
              "  <thead>\n",
              "    <tr style=\"text-align: right;\">\n",
              "      <th></th>\n",
              "      <th>ID</th>\n",
              "      <th>Path</th>\n",
              "      <th>Label</th>\n",
              "    </tr>\n",
              "  </thead>\n",
              "  <tbody>\n",
              "    <tr>\n",
              "      <th>0</th>\n",
              "      <td>0965_01.png</td>\n",
              "      <td>Data/images_evaluation/Angelic/character01/096...</td>\n",
              "      <td>964</td>\n",
              "    </tr>\n",
              "    <tr>\n",
              "      <th>1</th>\n",
              "      <td>0965_02.png</td>\n",
              "      <td>Data/images_evaluation/Angelic/character01/096...</td>\n",
              "      <td>964</td>\n",
              "    </tr>\n",
              "    <tr>\n",
              "      <th>2</th>\n",
              "      <td>0965_03.png</td>\n",
              "      <td>Data/images_evaluation/Angelic/character01/096...</td>\n",
              "      <td>964</td>\n",
              "    </tr>\n",
              "    <tr>\n",
              "      <th>3</th>\n",
              "      <td>0965_04.png</td>\n",
              "      <td>Data/images_evaluation/Angelic/character01/096...</td>\n",
              "      <td>964</td>\n",
              "    </tr>\n",
              "    <tr>\n",
              "      <th>4</th>\n",
              "      <td>0965_05.png</td>\n",
              "      <td>Data/images_evaluation/Angelic/character01/096...</td>\n",
              "      <td>964</td>\n",
              "    </tr>\n",
              "  </tbody>\n",
              "</table>\n",
              "</div>\n",
              "    <div class=\"colab-df-buttons\">\n",
              "\n",
              "  <div class=\"colab-df-container\">\n",
              "    <button class=\"colab-df-convert\" onclick=\"convertToInteractive('df-640895e8-3fe5-48b9-a49a-d582004e0a98')\"\n",
              "            title=\"Convert this dataframe to an interactive table.\"\n",
              "            style=\"display:none;\">\n",
              "\n",
              "  <svg xmlns=\"http://www.w3.org/2000/svg\" height=\"24px\" viewBox=\"0 -960 960 960\">\n",
              "    <path d=\"M120-120v-720h720v720H120Zm60-500h600v-160H180v160Zm220 220h160v-160H400v160Zm0 220h160v-160H400v160ZM180-400h160v-160H180v160Zm440 0h160v-160H620v160ZM180-180h160v-160H180v160Zm440 0h160v-160H620v160Z\"/>\n",
              "  </svg>\n",
              "    </button>\n",
              "\n",
              "  <style>\n",
              "    .colab-df-container {\n",
              "      display:flex;\n",
              "      gap: 12px;\n",
              "    }\n",
              "\n",
              "    .colab-df-convert {\n",
              "      background-color: #E8F0FE;\n",
              "      border: none;\n",
              "      border-radius: 50%;\n",
              "      cursor: pointer;\n",
              "      display: none;\n",
              "      fill: #1967D2;\n",
              "      height: 32px;\n",
              "      padding: 0 0 0 0;\n",
              "      width: 32px;\n",
              "    }\n",
              "\n",
              "    .colab-df-convert:hover {\n",
              "      background-color: #E2EBFA;\n",
              "      box-shadow: 0px 1px 2px rgba(60, 64, 67, 0.3), 0px 1px 3px 1px rgba(60, 64, 67, 0.15);\n",
              "      fill: #174EA6;\n",
              "    }\n",
              "\n",
              "    .colab-df-buttons div {\n",
              "      margin-bottom: 4px;\n",
              "    }\n",
              "\n",
              "    [theme=dark] .colab-df-convert {\n",
              "      background-color: #3B4455;\n",
              "      fill: #D2E3FC;\n",
              "    }\n",
              "\n",
              "    [theme=dark] .colab-df-convert:hover {\n",
              "      background-color: #434B5C;\n",
              "      box-shadow: 0px 1px 3px 1px rgba(0, 0, 0, 0.15);\n",
              "      filter: drop-shadow(0px 1px 2px rgba(0, 0, 0, 0.3));\n",
              "      fill: #FFFFFF;\n",
              "    }\n",
              "  </style>\n",
              "\n",
              "    <script>\n",
              "      const buttonEl =\n",
              "        document.querySelector('#df-640895e8-3fe5-48b9-a49a-d582004e0a98 button.colab-df-convert');\n",
              "      buttonEl.style.display =\n",
              "        google.colab.kernel.accessAllowed ? 'block' : 'none';\n",
              "\n",
              "      async function convertToInteractive(key) {\n",
              "        const element = document.querySelector('#df-640895e8-3fe5-48b9-a49a-d582004e0a98');\n",
              "        const dataTable =\n",
              "          await google.colab.kernel.invokeFunction('convertToInteractive',\n",
              "                                                    [key], {});\n",
              "        if (!dataTable) return;\n",
              "\n",
              "        const docLinkHtml = 'Like what you see? Visit the ' +\n",
              "          '<a target=\"_blank\" href=https://colab.research.google.com/notebooks/data_table.ipynb>data table notebook</a>'\n",
              "          + ' to learn more about interactive tables.';\n",
              "        element.innerHTML = '';\n",
              "        dataTable['output_type'] = 'display_data';\n",
              "        await google.colab.output.renderOutput(dataTable, element);\n",
              "        const docLink = document.createElement('div');\n",
              "        docLink.innerHTML = docLinkHtml;\n",
              "        element.appendChild(docLink);\n",
              "      }\n",
              "    </script>\n",
              "  </div>\n",
              "\n",
              "\n",
              "<div id=\"df-9f51719b-aae7-4fd5-a267-c813888a3342\">\n",
              "  <button class=\"colab-df-quickchart\" onclick=\"quickchart('df-9f51719b-aae7-4fd5-a267-c813888a3342')\"\n",
              "            title=\"Suggest charts\"\n",
              "            style=\"display:none;\">\n",
              "\n",
              "<svg xmlns=\"http://www.w3.org/2000/svg\" height=\"24px\"viewBox=\"0 0 24 24\"\n",
              "     width=\"24px\">\n",
              "    <g>\n",
              "        <path d=\"M19 3H5c-1.1 0-2 .9-2 2v14c0 1.1.9 2 2 2h14c1.1 0 2-.9 2-2V5c0-1.1-.9-2-2-2zM9 17H7v-7h2v7zm4 0h-2V7h2v10zm4 0h-2v-4h2v4z\"/>\n",
              "    </g>\n",
              "</svg>\n",
              "  </button>\n",
              "\n",
              "<style>\n",
              "  .colab-df-quickchart {\n",
              "      --bg-color: #E8F0FE;\n",
              "      --fill-color: #1967D2;\n",
              "      --hover-bg-color: #E2EBFA;\n",
              "      --hover-fill-color: #174EA6;\n",
              "      --disabled-fill-color: #AAA;\n",
              "      --disabled-bg-color: #DDD;\n",
              "  }\n",
              "\n",
              "  [theme=dark] .colab-df-quickchart {\n",
              "      --bg-color: #3B4455;\n",
              "      --fill-color: #D2E3FC;\n",
              "      --hover-bg-color: #434B5C;\n",
              "      --hover-fill-color: #FFFFFF;\n",
              "      --disabled-bg-color: #3B4455;\n",
              "      --disabled-fill-color: #666;\n",
              "  }\n",
              "\n",
              "  .colab-df-quickchart {\n",
              "    background-color: var(--bg-color);\n",
              "    border: none;\n",
              "    border-radius: 50%;\n",
              "    cursor: pointer;\n",
              "    display: none;\n",
              "    fill: var(--fill-color);\n",
              "    height: 32px;\n",
              "    padding: 0;\n",
              "    width: 32px;\n",
              "  }\n",
              "\n",
              "  .colab-df-quickchart:hover {\n",
              "    background-color: var(--hover-bg-color);\n",
              "    box-shadow: 0 1px 2px rgba(60, 64, 67, 0.3), 0 1px 3px 1px rgba(60, 64, 67, 0.15);\n",
              "    fill: var(--button-hover-fill-color);\n",
              "  }\n",
              "\n",
              "  .colab-df-quickchart-complete:disabled,\n",
              "  .colab-df-quickchart-complete:disabled:hover {\n",
              "    background-color: var(--disabled-bg-color);\n",
              "    fill: var(--disabled-fill-color);\n",
              "    box-shadow: none;\n",
              "  }\n",
              "\n",
              "  .colab-df-spinner {\n",
              "    border: 2px solid var(--fill-color);\n",
              "    border-color: transparent;\n",
              "    border-bottom-color: var(--fill-color);\n",
              "    animation:\n",
              "      spin 1s steps(1) infinite;\n",
              "  }\n",
              "\n",
              "  @keyframes spin {\n",
              "    0% {\n",
              "      border-color: transparent;\n",
              "      border-bottom-color: var(--fill-color);\n",
              "      border-left-color: var(--fill-color);\n",
              "    }\n",
              "    20% {\n",
              "      border-color: transparent;\n",
              "      border-left-color: var(--fill-color);\n",
              "      border-top-color: var(--fill-color);\n",
              "    }\n",
              "    30% {\n",
              "      border-color: transparent;\n",
              "      border-left-color: var(--fill-color);\n",
              "      border-top-color: var(--fill-color);\n",
              "      border-right-color: var(--fill-color);\n",
              "    }\n",
              "    40% {\n",
              "      border-color: transparent;\n",
              "      border-right-color: var(--fill-color);\n",
              "      border-top-color: var(--fill-color);\n",
              "    }\n",
              "    60% {\n",
              "      border-color: transparent;\n",
              "      border-right-color: var(--fill-color);\n",
              "    }\n",
              "    80% {\n",
              "      border-color: transparent;\n",
              "      border-right-color: var(--fill-color);\n",
              "      border-bottom-color: var(--fill-color);\n",
              "    }\n",
              "    90% {\n",
              "      border-color: transparent;\n",
              "      border-bottom-color: var(--fill-color);\n",
              "    }\n",
              "  }\n",
              "</style>\n",
              "\n",
              "  <script>\n",
              "    async function quickchart(key) {\n",
              "      const quickchartButtonEl =\n",
              "        document.querySelector('#' + key + ' button');\n",
              "      quickchartButtonEl.disabled = true;  // To prevent multiple clicks.\n",
              "      quickchartButtonEl.classList.add('colab-df-spinner');\n",
              "      try {\n",
              "        const charts = await google.colab.kernel.invokeFunction(\n",
              "            'suggestCharts', [key], {});\n",
              "      } catch (error) {\n",
              "        console.error('Error during call to suggestCharts:', error);\n",
              "      }\n",
              "      quickchartButtonEl.classList.remove('colab-df-spinner');\n",
              "      quickchartButtonEl.classList.add('colab-df-quickchart-complete');\n",
              "    }\n",
              "    (() => {\n",
              "      let quickchartButtonEl =\n",
              "        document.querySelector('#df-9f51719b-aae7-4fd5-a267-c813888a3342 button');\n",
              "      quickchartButtonEl.style.display =\n",
              "        google.colab.kernel.accessAllowed ? 'block' : 'none';\n",
              "    })();\n",
              "  </script>\n",
              "</div>\n",
              "\n",
              "    </div>\n",
              "  </div>\n"
            ],
            "application/vnd.google.colaboratory.intrinsic+json": {
              "type": "dataframe",
              "variable_name": "testframe",
              "summary": "{\n  \"name\": \"testframe\",\n  \"rows\": 13180,\n  \"fields\": [\n    {\n      \"column\": \"ID\",\n      \"properties\": {\n        \"dtype\": \"string\",\n        \"num_unique_values\": 13180,\n        \"samples\": [\n          \"1524_15.png\",\n          \"1269_07.png\",\n          \"1345_01.png\"\n        ],\n        \"semantic_type\": \"\",\n        \"description\": \"\"\n      }\n    },\n    {\n      \"column\": \"Path\",\n      \"properties\": {\n        \"dtype\": \"string\",\n        \"num_unique_values\": 13180,\n        \"samples\": [\n          \"Data/images_evaluation/Sylheti/character22/1524_15.png\",\n          \"Data/images_evaluation/Keble/character24/1269_07.png\",\n          \"Data/images_evaluation/Manipuri/character27/1345_01.png\"\n        ],\n        \"semantic_type\": \"\",\n        \"description\": \"\"\n      }\n    },\n    {\n      \"column\": \"Label\",\n      \"properties\": {\n        \"dtype\": \"number\",\n        \"std\": 190,\n        \"min\": 964,\n        \"max\": 1622,\n        \"num_unique_values\": 659,\n        \"samples\": [\n          1592,\n          1389,\n          1099\n        ],\n        \"semantic_type\": \"\",\n        \"description\": \"\"\n      }\n    }\n  ]\n}"
            }
          },
          "metadata": {},
          "execution_count": 18
        }
      ],
      "source": [
        "testframe.head()"
      ]
    },
    {
      "cell_type": "code",
      "execution_count": 19,
      "metadata": {
        "id": "sTrG_qdWOn9X",
        "outputId": "5774b056-a04a-45f1-fae0-47da46a81bc2",
        "colab": {
          "base_uri": "https://localhost:8080/"
        }
      },
      "outputs": [
        {
          "output_type": "stream",
          "name": "stdout",
          "text": [
            "cpu\n"
          ]
        }
      ],
      "source": [
        "device=torch.device(\"cuda\" if torch.cuda.is_available() else \"cpu\")\n",
        "print(device)"
      ]
    },
    {
      "cell_type": "code",
      "execution_count": 20,
      "metadata": {
        "id": "_lyq8B5KOvnP"
      },
      "outputs": [],
      "source": [
        "# Define tasks used for training and test\n",
        "class Task(object):\n",
        "    def __init__(self,all_classes,num_classes,num_instances):\n",
        "        self.all_classes=all_classes\n",
        "        self.num_classes=num_classes\n",
        "        self.num_instances=num_instances\n",
        "        self.train_roots=[]\n",
        "        self.meta_roots=[]\n",
        "        self.train_labels=[]\n",
        "        self.meta_labels=[]\n",
        "        samples_per_class=20\n",
        "        sampled_classes=random.sample(all_classes,num_classes)\n",
        "        label=0\n",
        "        for c in sampled_classes:\n",
        "            cframe=trainframe.iloc[(c*samples_per_class):((c+1)*samples_per_class)]\n",
        "            cframe.reset_index(inplace=True,drop=True)\n",
        "            paths=cframe[\"Path\"]\n",
        "            sample_idxs=np.random.choice(samples_per_class,samples_per_class,replace=False)\n",
        "            train_idxs=sample_idxs[:num_instances]\n",
        "            meta_idxs=sample_idxs[num_instances:(num_instances*2)]\n",
        "            for idx in train_idxs:\n",
        "                self.train_roots.append(paths[idx])\n",
        "                self.train_labels.append(label)\n",
        "            for idx in meta_idxs:\n",
        "                self.meta_roots.append(paths[idx])\n",
        "                self.meta_labels.append(label)\n",
        "            label+=1\n",
        "\n",
        "class TestTask(object):\n",
        "    def __init__(self,all_classes,num_classes,num_instances,num_test_instances):\n",
        "        self.all_classes=all_classes\n",
        "        self.num_classes=num_classes\n",
        "        self.num_instances=num_instances\n",
        "        self.num_test_instances=num_test_instances\n",
        "        self.test_roots=[]\n",
        "        self.train_roots=[]\n",
        "        self.test_labels=[]\n",
        "        self.train_labels=[]\n",
        "        samples_per_class=20\n",
        "        sampled_classes=random.sample(all_classes,num_classes)\n",
        "        label=0\n",
        "\n",
        "        for c in sampled_classes:\n",
        "            cframe=testframe.iloc[((c-964)*samples_per_class):(((c+1)-964)*samples_per_class)]\n",
        "            cframe.reset_index(inplace=True,drop=True)\n",
        "            paths=cframe[\"Path\"]\n",
        "            sample_idxs=np.random.choice(samples_per_class,samples_per_class,replace=False)\n",
        "            train_idxs=sample_idxs[:num_instances]\n",
        "            test_idxs=sample_idxs[num_instances:(num_instances+num_test_instances)]\n",
        "            for idx in test_idxs:\n",
        "                self.test_roots.append(paths[idx])\n",
        "                self.test_labels.append(label)\n",
        "            for idx in train_idxs:\n",
        "                self.train_roots.append(paths[idx])\n",
        "                self.train_labels.append(label)\n",
        "            label+=1"
      ]
    },
    {
      "cell_type": "code",
      "execution_count": 21,
      "metadata": {
        "id": "vefXYS_UPArP"
      },
      "outputs": [],
      "source": [
        "# Construct dataset\n",
        "class MiniSet(Dataset):\n",
        "    def __init__(self,fileroots,labels,transform):\n",
        "        self.fileroots=fileroots\n",
        "        self.labels=labels\n",
        "        self.transform=transform\n",
        "\n",
        "    def __len__(self):\n",
        "        return len(self.fileroots)\n",
        "\n",
        "    def __getitem__(self,idx):\n",
        "        img=Image.open(self.fileroots[idx])\n",
        "        img=self.transform(img)\n",
        "        return img,self.labels[idx]"
      ]
    },
    {
      "cell_type": "code",
      "execution_count": 22,
      "metadata": {
        "id": "fPYBoiXWQMfq"
      },
      "outputs": [],
      "source": [
        "# Construct dataloader for training set and test set\n",
        "transform=transforms.Compose([transforms.Resize((28,28)),transforms.ToTensor()])\n",
        "def get_loaders(task):\n",
        "    loaders={}\n",
        "    train_fileroots=task.train_roots\n",
        "    train_labels=task.train_labels\n",
        "    meta_fileroots=task.meta_roots\n",
        "    meta_labels=task.meta_labels\n",
        "    trainloader=DataLoader(MiniSet(train_fileroots,train_labels,transform),\n",
        "                         batch_size=len(train_fileroots),shuffle=True)\n",
        "    metaloader=DataLoader(MiniSet(meta_fileroots,meta_labels,transform),\n",
        "                         batch_size=len(meta_fileroots),shuffle=True)\n",
        "    loaders[\"train\"]=trainloader\n",
        "    loaders[\"meta\"]=metaloader\n",
        "    return loaders\n",
        "\n",
        "def get_test_loaders(task):\n",
        "    loaders={}\n",
        "    test_fileroots=task.test_roots\n",
        "    test_labels=task.test_labels\n",
        "    train_fileroots=task.train_roots\n",
        "    train_labels=task.train_labels\n",
        "    testloader=DataLoader(MiniSet(test_fileroots,test_labels,transform),\n",
        "                         batch_size=len(test_fileroots),shuffle=True)\n",
        "    trainloader=DataLoader(MiniSet(train_fileroots,train_labels,transform),\n",
        "                         batch_size=len(train_fileroots),shuffle=True)\n",
        "    loaders[\"train\"]=trainloader\n",
        "    loaders[\"test\"]=testloader\n",
        "    return loaders"
      ]
    },
    {
      "cell_type": "code",
      "execution_count": 23,
      "metadata": {
        "id": "bzwmH5GnQbWq"
      },
      "outputs": [],
      "source": [
        "# Define the classification model\n",
        "class BaseNet(nn.Module):\n",
        "    def __init__(self,num_classes):\n",
        "        super(BaseNet,self).__init__()\n",
        "        self.features = nn.Sequential(OrderedDict([\n",
        "                    ('conv1', nn.Conv2d(1, 64, 3)),\n",
        "                    ('bn1', nn.BatchNorm2d(64, momentum=1, affine=True)),\n",
        "                    ('relu1', nn.ReLU(inplace=True)),\n",
        "                    ('pool1', nn.MaxPool2d(2,2)),\n",
        "                    ('conv2', nn.Conv2d(64,64,3)),\n",
        "                    ('bn2', nn.BatchNorm2d(64, momentum=1, affine=True)),\n",
        "                    ('relu2', nn.ReLU(inplace=True)),\n",
        "                    ('pool2', nn.MaxPool2d(2,2)),\n",
        "                    ('conv3', nn.Conv2d(64,64,3)),\n",
        "                    ('bn3', nn.BatchNorm2d(64, momentum=1, affine=True)),\n",
        "                    ('relu3', nn.ReLU(inplace=True)),\n",
        "                    ('pool3', nn.MaxPool2d(2,2))]))\n",
        "        self.add_module('fc', nn.Linear(64,num_classes))\n",
        "\n",
        "    def forward(self,x,weights=None):\n",
        "        if weights==None:\n",
        "            output=self.features(x)\n",
        "            output=output.view(-1,64)\n",
        "            output=self.fc(output)\n",
        "        else:\n",
        "            x = F.conv2d(x, weights['meta_learner.features.conv1.weight'], weights['meta_learner.features.conv1.bias'])\n",
        "            x = F.batch_norm(x, weights['meta_learner.features.bn1.running_mean'],\n",
        "                             weights['meta_learner.features.bn1.running_var'],\n",
        "                              weights['meta_learner.features.bn1.weight'],\n",
        "                             weights['meta_learner.features.bn1.bias'],momentum=1,training=True)\n",
        "            x = F.relu(x)\n",
        "            x = F.max_pool2d(x, kernel_size=2, stride=2)\n",
        "            x = F.conv2d(x, weights['meta_learner.features.conv2.weight'], weights['meta_learner.features.conv2.bias'])\n",
        "            x = F.batch_norm(x, weights['meta_learner.features.bn2.running_mean'],\n",
        "                             weights['meta_learner.features.bn2.running_var'],\n",
        "                              weights['meta_learner.features.bn2.weight'],\n",
        "                             weights['meta_learner.features.bn2.bias'],momentum=1,training=True)\n",
        "            x = F.relu(x)\n",
        "            x = F.max_pool2d(x, kernel_size=2, stride=2)\n",
        "            x = F.conv2d(x, weights['meta_learner.features.conv3.weight'], weights['meta_learner.features.conv3.bias'])\n",
        "            x = F.batch_norm(x, weights['meta_learner.features.bn3.running_mean'],\n",
        "                             weights['meta_learner.features.bn3.running_var'],\n",
        "                              weights['meta_learner.features.bn3.weight'],\n",
        "                             weights['meta_learner.features.bn3.bias'],momentum=1,training=True)\n",
        "            x = F.relu(x)\n",
        "            x = F.max_pool2d(x, kernel_size=2, stride=2)\n",
        "            x = x.view(x.size(0), 64)\n",
        "            output = F.linear(x, weights['meta_learner.fc.weight'], weights['meta_learner.fc.bias'])\n",
        "        out = F.log_softmax(output, dim=1)\n",
        "        return out"
      ]
    },
    {
      "cell_type": "code",
      "execution_count": 24,
      "metadata": {
        "id": "BFj_QsctQmtC"
      },
      "outputs": [],
      "source": [
        "# Define MetaLearner to organize the meta-training framework\n",
        "class MetaLearner(nn.Module):\n",
        "    def __init__(self,num_classes):\n",
        "        super(MetaLearner, self).__init__()\n",
        "        self.meta_learner=BaseNet(num_classes)\n",
        "\n",
        "    def forward(self,x,mod_weights=None):\n",
        "        if mod_weights==None:\n",
        "            out=self.meta_learner(x)\n",
        "        else:\n",
        "            out=self.meta_learner(x,mod_weights)\n",
        "        return out\n",
        "\n",
        "    def clone_state_dict(self):\n",
        "        cloned_state_dict = {key: val.clone()for key, val in self.state_dict().items()}\n",
        "        return cloned_state_dict"
      ]
    },
    {
      "cell_type": "code",
      "execution_count": 25,
      "metadata": {
        "id": "o4JL1eOnRovk"
      },
      "outputs": [],
      "source": [
        "def inner_loop(net,lr,loaders,num_updates,loss_metric):\n",
        "    net.train()\n",
        "    trainloader=iter(loaders[\"train\"])\n",
        "    x,y=next(trainloader)\n",
        "    x.to(device)\n",
        "    y.to(device)\n",
        "    output=net(x)\n",
        "    loss=loss_metric(output,y)\n",
        "\n",
        "    # Set the gradients of all parameters to zero\n",
        "    def zero_grad(params):\n",
        "        # INSERT CODE HERE\n",
        "        for i in params:\n",
        "          if i.grad is not None:\n",
        "            i.grad.zero_()\n",
        "        # END CODE HERE\n",
        "\n",
        "    # Meta-train\n",
        "\n",
        "    # INSERT CODE HERE\n",
        "    for _ in range(num_updates):\n",
        "        zero_grad(net.parameters())\n",
        "        output = net(x)\n",
        "        loss = loss_metric(output, y)\n",
        "        loss.backward()\n",
        "        grads = [param.grad for param in net.parameters()]\n",
        "\n",
        "    # END CODE HERE\n",
        "\n",
        "    mod_state_dict=net.clone_state_dict() # Used to store adapted(fast) weights\n",
        "    mod_weights=OrderedDict() # adapted(fast) weights\n",
        "    for (k,v),g in zip(net.named_parameters(),grads):\n",
        "        mod_weights[k]=v-lr*g\n",
        "        mod_state_dict[k]=mod_weights[k]\n",
        "\n",
        "    return mod_state_dict"
      ]
    },
    {
      "cell_type": "code",
      "execution_count": 26,
      "metadata": {
        "id": "8IV55ir9Z_MU"
      },
      "outputs": [],
      "source": [
        "def outer_loop(net,meta_train_classes,meta_optimiser,loss_metric,num_classes,num_instances,num_tasks,lr,meta_lr,num_inner_updates,num_epochs):\n",
        "    total_loss= 0\n",
        "    print_every= 10\n",
        "    plot_every= 1\n",
        "    meta_losses=[]\n",
        "    for epoch in range(1,num_epochs+1):\n",
        "        state_dicts=[]\n",
        "        loaders_list=[]\n",
        "\n",
        "        for n in range(num_tasks):\n",
        "            task=Task(meta_train_classes,num_classes,num_instances)\n",
        "            loaders=get_loaders(task)\n",
        "            d=inner_loop(net,lr,loaders,num_inner_updates,loss_metric)\n",
        "            state_dicts.append(d)\n",
        "            loaders_list.append(loaders)\n",
        "\n",
        "        metaloss=0\n",
        "\n",
        "        # Meta-validation on each task\n",
        "        for n in range(num_tasks):\n",
        "            loaders=loaders_list[n]\n",
        "            metaloader = iter(loaders[\"meta\"])\n",
        "            x, y = next(metaloader)\n",
        "            x.to(device)\n",
        "            y.to(device)\n",
        "\n",
        "            # Compute 'metaloss'\n",
        "            # INSERT CODE HERE\n",
        "            net.load_state_dict(state_dicts[n])\n",
        "            net.eval()\n",
        "            with torch.no_grad():\n",
        "                output = net(x)\n",
        "                task_loss = loss_metric(output, y)\n",
        "                metaloss += task_loss\n",
        "            # END CODE HERE\n",
        "\n",
        "        metaloss/=float(num_tasks)\n",
        "        total_loss+=metaloss.item()\n",
        "\n",
        "        if epoch % print_every == 0:\n",
        "            print(\"{}/{}. loss: {}\".format(epoch, num_epochs, total_loss / plot_every))\n",
        "        if epoch%plot_every==0:\n",
        "            meta_losses.append(total_loss/plot_every)\n",
        "            total_loss = 0\n",
        "        if (epoch%20)==0:\n",
        "            print(\"Epoch \"+str(epoch)+\" completed.\")\n",
        "    return meta_losses,net"
      ]
    },
    {
      "cell_type": "code",
      "execution_count": null,
      "metadata": {
        "colab": {
          "base_uri": "https://localhost:8080/"
        },
        "id": "dY9TzWxfbeRv",
        "outputId": "dbfe2f74-7cc5-4949-e7ca-d956f569e37e"
      },
      "outputs": [
        {
          "name": "stdout",
          "output_type": "stream",
          "text": [
            "10/100. loss: 1.3875720500946045\n",
            "20/100. loss: 1.3555307388305664\n",
            "Epoch 20 completed.\n",
            "30/100. loss: 1.3339799642562866\n",
            "40/100. loss: 1.3775752782821655\n",
            "Epoch 40 completed.\n",
            "50/100. loss: 1.4193737506866455\n",
            "60/100. loss: 1.4783642292022705\n",
            "Epoch 60 completed.\n",
            "70/100. loss: 1.4350231885910034\n",
            "80/100. loss: 1.4550557136535645\n",
            "Epoch 80 completed.\n",
            "90/100. loss: 1.499338150024414\n",
            "100/100. loss: 1.4168598651885986\n",
            "Epoch 100 completed.\n"
          ]
        }
      ],
      "source": [
        "loss_metric=nn.NLLLoss()\n",
        "num_classes=5 # Number of classes for each task\n",
        "net=MetaLearner(num_classes)\n",
        "lr=1e-1 # Learning rate for inner loop\n",
        "meta_lr=1e-3 # Learning rate for outer loop\n",
        "meta_optimizer = torch.optim.Adam(net.parameters(), lr=meta_lr)\n",
        "num_instances=3 # Number of instances for each class\n",
        "num_tasks=10 # Number of tasks for each mini-batch\n",
        "num_inner_updates=1\n",
        "num_epochs=100\n",
        "train_classes=np.max(trainframe['Label'])\n",
        "train_classes=list(np.arange(train_classes))\n",
        "metalosses,net=outer_loop(net,train_classes,meta_optimizer,loss_metric,num_classes,num_instances,num_tasks,lr,meta_lr,num_inner_updates,num_epochs)"
      ]
    },
    {
      "cell_type": "code",
      "execution_count": null,
      "metadata": {
        "colab": {
          "base_uri": "https://localhost:8080/",
          "height": 297
        },
        "id": "XkTzXk_2eMJd",
        "outputId": "b5f3afb8-8da3-410b-d159-41d47800aee7"
      },
      "outputs": [
        {
          "data": {
            "image/png": "[encoded data removed]",
            "text/plain": [
              "<Figure size 640x480 with 1 Axes>"
            ]
          },
          "metadata": {},
          "output_type": "display_data"
        }
      ],
      "source": [
        "# Plot the training loss\n",
        "plt.plot(metalosses,  label=\"Training Loss\")\n",
        "plt.title('Loss Vs Training epoches', fontsize=15)\n",
        "plt.xlabel(\"Epoches\")\n",
        "plt.ylabel(\"Loss\")\n",
        "plt.legend()\n",
        "plt.show()"
      ]
    },
    {
      "cell_type": "code",
      "execution_count": null,
      "metadata": {
        "id": "ZMk3Ruwze4qB"
      },
      "outputs": [],
      "source": [
        "# Calculate classification accuracy\n",
        "def accuracy(outputs, labels):\n",
        "    outputs = np.argmax(outputs, axis=1)\n",
        "    return np.sum(outputs == labels) / float(labels.size)"
      ]
    },
    {
      "cell_type": "code",
      "execution_count": null,
      "metadata": {
        "id": "6bfhOvsvfAc3"
      },
      "outputs": [],
      "source": [
        "# Test the meta-learned model\n",
        "import copy\n",
        "def test(net,test_classes,task_lr,num_classes=5,num_steps=100,num_test_updates=3):\n",
        "    losses=[]\n",
        "    acc_list=[]\n",
        "    for step in np.arange(num_steps):\n",
        "        task=TestTask(test_classes,num_classes=5,num_instances=3,num_test_instances=10) # Get test task\n",
        "        loaders=get_test_loaders(task)\n",
        "        trainloader,testloader=loaders[\"train\"],loaders[\"test\"]\n",
        "        x_train,y_train=next(iter(trainloader)) # Get training data (support set) from the task\n",
        "        x_test,y_test=next(iter(testloader)) # Get test data (query set) from the task\n",
        "        x_train.to(device)\n",
        "        y_train.to(device)\n",
        "        x_test.to(device)\n",
        "        y_test.to(device)\n",
        "        cloned_net=copy.deepcopy(net)\n",
        "        optim = torch.optim.SGD(cloned_net.parameters(),lr=task_lr)\n",
        "\n",
        "        # Fine-tune the meta-learned model on test tasks\n",
        "        for _ in range(num_test_updates):\n",
        "            # INSERT CODE HERE\n",
        "            optim.zero_grad()\n",
        "            y_train_pred = cloned_net(x_train)\n",
        "            loss = loss_metric(y_train_pred, y_train)\n",
        "            loss.backward()\n",
        "            optim.step()\n",
        "            # END CODE HERE\n",
        "\n",
        "        y_test_pred=cloned_net(x_test)\n",
        "        loss=loss_metric(y_test_pred,y_test)\n",
        "        losses.append(loss)\n",
        "        y_test_pred=y_test_pred.data.cpu().numpy()\n",
        "        y_test=y_test.data.cpu().numpy()\n",
        "        acc=accuracy(y_test_pred,y_test)\n",
        "        acc_list.append(acc)\n",
        "    return acc_list,losses"
      ]
    },
    {
      "cell_type": "code",
      "execution_count": null,
      "metadata": {
        "colab": {
          "base_uri": "https://localhost:8080/"
        },
        "id": "AG7emF7YhCRc",
        "outputId": "04f4d6d6-53f6-427e-8316-40c1ccc600ef"
      },
      "outputs": [
        {
          "name": "stdout",
          "output_type": "stream",
          "text": [
            "Average test accuracy 0.4442000000000001\n"
          ]
        }
      ],
      "source": [
        "# Test the meta-learned model and get testing accuracy\n",
        "test_classes=list(np.arange(np.min(testframe['Label']),np.max(testframe['Label']+1)))\n",
        "acc_list,losses=test(net,test_classes,task_lr=1e-1)\n",
        "average_test_accuracy=(sum(acc_list)/len(acc_list))\n",
        "print('Average test accuracy', average_test_accuracy)"
      ]
    }
  ],
  "metadata": {
    "accelerator": "GPU",
    "colab": {
      "provenance": []
    },
    "kernelspec": {
      "display_name": "Python 3 (ipykernel)",
      "language": "python",
      "name": "python3"
    },
    "language_info": {
      "codemirror_mode": {
        "name": "ipython",
        "version": 3
      },
      "file_extension": ".py",
      "mimetype": "text/x-python",
      "name": "python",
      "nbconvert_exporter": "python",
      "pygments_lexer": "ipython3",
      "version": "3.9.18"
    }
  },
  "nbformat": 4,
  "nbformat_minor": 0
}