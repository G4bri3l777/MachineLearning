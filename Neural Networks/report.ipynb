{
  "cells": [
    {
      "cell_type": "markdown",
      "metadata": {
        "id": "YjK-NFI8_Ai7"
      },
      "source": [
        "# Convolutional Neural Networks"
      ]
    },
    {
      "cell_type": "markdown",
      "metadata": {
        "id": "xx9gIDXI_AjB"
      },
      "source": [
        "## 9 - Report your Results [25 points]\n",
        "\n",
        "Report the followings:\n",
        " 1. The number of parameters in your CNN.\n",
        " 2. The best accuracy on the testing set (along with the training training set). You will get full credit if your model achieves $ > 70\\%$ accuracy on the testing set.\n",
        " 3. F1 score on the testing set from the model with the best accuracy. There is no provided code for this; please implement F1 score.\n",
        " 4. A plot containing the **training and testing accuracies** with respect to time (epochs).\n",
        " 5. A plot containing the **training and testing losses** with respect to time (epochs).\n",
        " 6. Try 2 more learning rates with the Adam optimizer and report the accuracy and F1 score for both.\n",
        " 7. Try 2 more optimizers with a fixed learning rate of 0.01 and report the accuracy and F1 score for both.\n",
        " 8. Trying different learning rates and optimizers is also known as Ablation Study. Organize your results in a table for ease of readability. Please give some insights on the performances of different settings.\n",
        " * Finally, please submit the notebook **that contains the output logs**.\n",
        "\n",
        " ---"
      ]
    },
    {
      "cell_type": "markdown",
      "metadata": {
        "id": "7HEiTa8i_AjC"
      },
      "source": [
        "1. The number of parameters in your CNN: 2 060 874"
      ]
    },
    {
      "cell_type": "markdown",
      "metadata": {
        "id": "UKQJRnwf_AjD"
      },
      "source": [
        "2. The best accuracy on the testing set (along with the training training set). You will get full credit if your model achieves $ > 70\\%$ accuracy on the testing set.\n",
        "\n",
        "My best model was obtained with Adam as optimizer and learning rate 0.001.\n",
        "\n",
        "Test Accuracy of the model on the 10000 test images: 72.34 % (This calculus was paralelized)"
      ]
    },
    {
      "cell_type": "markdown",
      "metadata": {
        "id": "o2tK4wSp_AjE"
      },
      "source": [
        "3. F1 score on the testing set from the model with the best accuracy. There is no provided code for this; please implement F1 score."
      ]
    },
    {
      "cell_type": "code",
      "execution_count": 16,
      "metadata": {
        "id": "eW02b-KY_AjF"
      },
      "outputs": [],
      "source": [
        "from sklearn.metrics import f1_score\n",
        "import torch\n",
        "import torch.nn as nn\n",
        "import torch.nn.functional as F\n",
        "import torchvision\n",
        "import torchvision.transforms as transforms"
      ]
    },
    {
      "cell_type": "code",
      "execution_count": 17,
      "metadata": {
        "id": "yb8ZPoBG_AjJ",
        "outputId": "9ab0b724-8df9-4190-ac70-01756b3c2989"
      },
      "outputs": [
        {
          "name": "stdout",
          "output_type": "stream",
          "text": [
            "cpu\n"
          ]
        }
      ],
      "source": [
        "device = 'cuda' if torch.cuda.is_available() else 'cpu'\n",
        "print(device)\n",
        "batch_size = 100"
      ]
    },
    {
      "cell_type": "code",
      "execution_count": 18,
      "metadata": {
        "id": "TaPyAl9U_AjN",
        "outputId": "0f89252e-6482-4083-944f-f76ca06f6feb"
      },
      "outputs": [
        {
          "name": "stdout",
          "output_type": "stream",
          "text": [
            "Files already downloaded and verified\n",
            "Files already downloaded and verified\n"
          ]
        }
      ],
      "source": [
        "# Data augmentation\n",
        "transform_train = transforms.Compose([\n",
        "    ### START CODE HERE ### (≈ 3 lines of code)\n",
        "    # Fill in data augmentations\n",
        "    transforms.RandomResizedCrop(size=(32, 32), antialias=True),\n",
        "    transforms.RandomHorizontalFlip(p=0.5),\n",
        "    transforms.RandomRotation(degrees=10),\n",
        "    ### END CODE HERE ###\n",
        "    transforms.ToTensor(),\n",
        "    transforms.Normalize((0.4914, 0.4822, 0.4465), (0.2023, 0.1994, 0.2010)),\n",
        "])\n",
        "\n",
        "# Don't augment the test set\n",
        "transform_test = transforms.Compose([\n",
        "    transforms.ToTensor(),\n",
        "    transforms.Normalize((0.4914, 0.4822, 0.4465), (0.2023, 0.1994, 0.2010)),\n",
        "])\n",
        "\n",
        "trainset = torchvision.datasets.CIFAR10(\n",
        "    root='./data', train=True, download=True, transform=transform_train)\n",
        "trainloader = torch.utils.data.DataLoader(\n",
        "    trainset, batch_size=batch_size, shuffle=True, num_workers=2)\n",
        "\n",
        "testset = torchvision.datasets.CIFAR10(\n",
        "    root='./data', train=False, download=True, transform=transform_test)\n",
        "testloader = torch.utils.data.DataLoader(\n",
        "    testset, batch_size=batch_size, shuffle=False, num_workers=2)"
      ]
    },
    {
      "cell_type": "code",
      "execution_count": 19,
      "metadata": {
        "id": "YzQ6VhZz_AjO"
      },
      "outputs": [],
      "source": [
        "class Model(nn.Module):\n",
        "    def __init__(self, num_classes=10):\n",
        "        super(Model, self).__init__()\n",
        "\n",
        "        self.conv1 = nn.Conv2d(in_channels=3, out_channels=64, kernel_size=3, stride=2, padding=1)\n",
        "        self.maxpool1 = nn.MaxPool2d(2, 2)\n",
        "        self.conv2 = nn.Conv2d(in_channels=64, out_channels=192, kernel_size=3, stride=1, padding=1)\n",
        "        self.maxpool2 = nn.MaxPool2d(2, 2)\n",
        "        self.conv3 = nn.Conv2d(in_channels=192, out_channels=384, kernel_size=3, stride=1, padding=1)\n",
        "        self.maxpool3 = nn.MaxPool2d(2, 2)\n",
        "        self.conv4 = nn.Conv2d(in_channels=384, out_channels=256, kernel_size=3, stride=1, padding=1)\n",
        "        self.maxpool4 = nn.MaxPool2d(2, 2)\n",
        "\n",
        "        self.fc1 = nn.Linear(256, 512)\n",
        "        self.fc2 = nn.Linear(512, 512)\n",
        "        self.fc3 = nn.Linear(512, 10)\n",
        "\n",
        "    def observe_outputs(self, x): # used to observe the dimension of each layer's output\n",
        "        x = self.conv1(x)\n",
        "        print(f'After conv1: {x.size()}')\n",
        "        x = self.maxpool1(F.relu(x))\n",
        "        print(f'After maxpool1: {x.size()}')\n",
        "\n",
        "        x = self.conv2(x)\n",
        "        print(f'After conv2: {x.size()}')\n",
        "        x = self.maxpool2(F.relu(x))\n",
        "        print(f'After maxpool2: {x.size()}')\n",
        "\n",
        "        x = self.conv3(x)\n",
        "        print(f'After conv3: {x.size()}')\n",
        "        x = self.maxpool3(F.relu(x))\n",
        "        print(f'After maxpool3: {x.size()}')\n",
        "\n",
        "        x = self.conv4(x)\n",
        "        print(f'After conv4: {x.size()}')\n",
        "        x = self.maxpool4(F.relu(x))\n",
        "        print(f'After maxpool4: {x.size()}')\n",
        "\n",
        "        # flatten to a vector\n",
        "        x = x.view(x.size(0), 256)\n",
        "        print(f'Flatten: {x.size()}')\n",
        "\n",
        "        x = F.relu(self.fc1(x))\n",
        "        print(f'After fc1: {x.size()}')\n",
        "        x = F.relu(self.fc2(x))\n",
        "        print(f'After fc2: {x.size()}')\n",
        "        x = self.fc3(x)\n",
        "        print(f'After fc3: {x.size()}')\n",
        "        return x\n",
        "\n",
        "    def forward(self, x):\n",
        "        x = self.conv1(x)\n",
        "        x = self.maxpool1(F.relu(x))\n",
        "\n",
        "        x = self.conv2(x)\n",
        "        x = self.maxpool2(F.relu(x))\n",
        "\n",
        "        x = self.conv3(x)\n",
        "        x = self.maxpool3(F.relu(x))\n",
        "\n",
        "        x = self.conv4(x)\n",
        "        x = self.maxpool4(F.relu(x))\n",
        "\n",
        "        # flatten to a vector\n",
        "        x = x.view(x.size(0), 256)\n",
        "\n",
        "        x = F.relu(self.fc1(x))\n",
        "        x = F.relu(self.fc2(x))\n",
        "        x = self.fc3(x)\n",
        "\n",
        "        return x\n"
      ]
    },
    {
      "cell_type": "code",
      "execution_count": 25,
      "metadata": {
        "id": "rJv5Uo97_AjP"
      },
      "outputs": [],
      "source": [
        "def get_metrics_score_for_pretrained_model(path_to_model):\n",
        "    model = Model().to(device)\n",
        "    checkpoint = torch.load(path_to_model, map_location=torch.device('cpu')) # load checkpoint\n",
        "    model.load_state_dict(checkpoint['net']) # load model parameter\n",
        "\n",
        "    model.eval()\n",
        "\n",
        "    correct = 0\n",
        "    total = 0\n",
        "\n",
        "    all_predictions = []\n",
        "    all_labels = []\n",
        "\n",
        "    with torch.no_grad():\n",
        "        for inputs, labels in testloader:\n",
        "            outputs = model(inputs.to(device))\n",
        "            _, predictions = torch.max(outputs, 1)\n",
        "            total += labels.size(0)\n",
        "            correct += (predictions.cpu().numpy() == labels.cpu().numpy()).sum().item()\n",
        "            all_predictions.extend(predictions.cpu().numpy())\n",
        "            all_labels.extend(labels.cpu().numpy())\n",
        "    accuracy = correct / total\n",
        "    f1 = f1_score(all_labels, all_predictions, average='weighted')\n",
        "\n",
        "    return accuracy, f1"
      ]
    },
    {
      "cell_type": "code",
      "execution_count": 26,
      "metadata": {
        "id": "ixOgWHCE_AjP",
        "outputId": "becd5e27-2f06-4195-e03c-c932a2687a9a"
      },
      "outputs": [
        {
          "name": "stdout",
          "output_type": "stream",
          "text": [
            "f1-score: 0.7189\n"
          ]
        }
      ],
      "source": [
        "# Correct usage without modifying the function\n",
        "\n",
        "accuracy, f1 = get_metrics_score_for_pretrained_model('./checkpoint/ckpt_adam_lr_0.001.pth')\n",
        "print(f'f1-score: {f1:.4f}')\n"
      ]
    },
    {
      "cell_type": "markdown",
      "metadata": {
        "id": "wQ2lJZ8d_AjQ"
      },
      "source": [
        "4. A plot containing the **training and testing accuracies** with respect to time (epochs)."
      ]
    },
    {
      "cell_type": "code",
      "execution_count": 27,
      "metadata": {
        "id": "LV-IZhwr_AjQ"
      },
      "outputs": [],
      "source": [
        "# Train the model\n",
        "def train(epoch, model, criterion, optimizer):\n",
        "    print('\\nEpoch: %d' % epoch)\n",
        "    train_losses = [] # needed for visualize the traning loss\n",
        "    model.train()\n",
        "    train_loss = 0\n",
        "    correct = 0\n",
        "    total = 0\n",
        "    for batch_idx, (inputs, targets) in enumerate(trainloader):\n",
        "        inputs, targets = inputs.to(device), targets.to(device)# get a batch\n",
        "        ### START CODE HERE ### (≈ 5 lines of code)\n",
        "        # Clear gradient\n",
        "        optimizer.zero_grad()\n",
        "        # Forward pass batch through model\n",
        "        outputs = model(inputs)\n",
        "        # Calculate loss on batch\n",
        "        loss = criterion(outputs, targets)\n",
        "        # Calculate gradients for backward pass\n",
        "        loss.backward()\n",
        "        # Update model\n",
        "        optimizer.step()\n",
        "        ### END CODE HERE ###\n",
        "\n",
        "        train_loss += loss.item()\n",
        "        train_losses.append(loss.item())\n",
        "        _, predicted = outputs.max(1)\n",
        "        total += targets.size(0)\n",
        "        correct += predicted.eq(targets).sum().item()\n",
        "        if batch_idx % 100 == 0: # print every 100 iterations\n",
        "            print(batch_idx, len(trainloader), 'Train Loss: %.3f | Acc: %.3f%% (%d/%d)'\n",
        "                     % (train_loss/(batch_idx+1), 100.*correct/total, correct, total))\n",
        "    train_loss_mean = sum(train_losses)/len(train_losses)\n",
        "    return train_loss_mean, 100.*correct/total"
      ]
    },
    {
      "cell_type": "code",
      "execution_count": 29,
      "metadata": {
        "id": "ooZ-3YRB_AjQ"
      },
      "outputs": [],
      "source": [
        "def test(epoch, model, criterion):\n",
        "    global best_acc\n",
        "    test_losses = []\n",
        "    model.eval()\n",
        "    test_loss = 0\n",
        "    correct = 0\n",
        "    total = 0\n",
        "    with torch.no_grad():\n",
        "        for batch_idx, (inputs, targets) in enumerate(testloader):\n",
        "            inputs, targets = inputs.to(device), targets.to(device)\n",
        "            ### START CODE HERE ### (≈ 2 lines of code)\n",
        "            # Forward pass batch through model\n",
        "            outputs = model(inputs)\n",
        "            # Calculate loss on batch\n",
        "            loss = criterion(outputs, targets)\n",
        "            test_loss += loss.item()\n",
        "            test_losses.append(loss.item())\n",
        "            _, predicted = outputs.max(1)\n",
        "            total += targets.size(0)\n",
        "            correct += predicted.eq(targets).sum().item()\n",
        "            if batch_idx % 100 == 0:\n",
        "                print(batch_idx, len(testloader), 'Testing Loss: %.3f | Acc: %.3f%% (%d/%d)'\n",
        "                            % (test_loss/(batch_idx+1), 100.*correct/total, correct, total))\n",
        "    test_loss_mean = sum(test_losses)/len(test_losses)\n",
        "    acc = 100.*correct/total\n",
        "    print('Test Accuracy of the model on the 10000 test images: {} %'.format(acc))\n",
        "    if acc > best_acc:\n",
        "        best_acc = acc\n",
        "    return test_loss_mean, acc"
      ]
    },
    {
      "cell_type": "code",
      "execution_count": 30,
      "metadata": {
        "id": "_Ej3uRgJ_AjR",
        "outputId": "eda732bc-ad75-481c-b7bf-3fa85588eaa8"
      },
      "outputs": [
        {
          "name": "stdout",
          "output_type": "stream",
          "text": [
            "\n",
            "Epoch: 0\n"
          ]
        },
        {
          "name": "stdout",
          "output_type": "stream",
          "text": [
            "0 500 Train Loss: 2.302 | Acc: 13.000% (13/100)\n",
            "100 500 Train Loss: 2.107 | Acc: 19.248% (1944/10100)\n",
            "200 500 Train Loss: 2.010 | Acc: 23.463% (4716/20100)\n",
            "300 500 Train Loss: 1.950 | Acc: 26.033% (7836/30100)\n",
            "400 500 Train Loss: 1.902 | Acc: 28.052% (11249/40100)\n",
            "0 100 Testing Loss: 1.407 | Acc: 49.000% (49/100)\n",
            "Test Accuracy of the model on the 10000 test images: 46.07 %\n",
            "\n",
            "Epoch: 1\n",
            "0 500 Train Loss: 1.731 | Acc: 39.000% (39/100)\n",
            "100 500 Train Loss: 1.647 | Acc: 39.050% (3944/10100)\n",
            "200 500 Train Loss: 1.635 | Acc: 39.498% (7939/20100)\n",
            "300 500 Train Loss: 1.627 | Acc: 40.076% (12063/30100)\n",
            "400 500 Train Loss: 1.613 | Acc: 40.973% (16430/40100)\n",
            "0 100 Testing Loss: 1.190 | Acc: 58.000% (58/100)\n",
            "Test Accuracy of the model on the 10000 test images: 54.09 %\n",
            "\n",
            "Epoch: 2\n",
            "0 500 Train Loss: 1.531 | Acc: 39.000% (39/100)\n",
            "100 500 Train Loss: 1.516 | Acc: 45.238% (4569/10100)\n",
            "200 500 Train Loss: 1.516 | Acc: 45.189% (9083/20100)\n",
            "300 500 Train Loss: 1.504 | Acc: 46.003% (13847/30100)\n",
            "400 500 Train Loss: 1.498 | Acc: 46.392% (18603/40100)\n",
            "0 100 Testing Loss: 0.987 | Acc: 71.000% (71/100)\n",
            "Test Accuracy of the model on the 10000 test images: 56.48 %\n",
            "\n",
            "Epoch: 3\n",
            "0 500 Train Loss: 1.384 | Acc: 46.000% (46/100)\n",
            "100 500 Train Loss: 1.452 | Acc: 47.743% (4822/10100)\n",
            "200 500 Train Loss: 1.425 | Acc: 48.886% (9826/20100)\n",
            "300 500 Train Loss: 1.421 | Acc: 49.096% (14778/30100)\n",
            "400 500 Train Loss: 1.419 | Acc: 49.037% (19664/40100)\n",
            "0 100 Testing Loss: 0.935 | Acc: 70.000% (70/100)\n",
            "Test Accuracy of the model on the 10000 test images: 60.93 %\n",
            "\n",
            "Epoch: 4\n",
            "0 500 Train Loss: 1.489 | Acc: 50.000% (50/100)\n",
            "100 500 Train Loss: 1.377 | Acc: 51.277% (5179/10100)\n",
            "200 500 Train Loss: 1.372 | Acc: 50.876% (10226/20100)\n",
            "300 500 Train Loss: 1.370 | Acc: 50.900% (15321/30100)\n",
            "400 500 Train Loss: 1.364 | Acc: 51.182% (20524/40100)\n",
            "0 100 Testing Loss: 0.901 | Acc: 70.000% (70/100)\n",
            "Test Accuracy of the model on the 10000 test images: 62.51 %\n",
            "\n",
            "Epoch: 5\n",
            "0 500 Train Loss: 1.273 | Acc: 55.000% (55/100)\n",
            "100 500 Train Loss: 1.320 | Acc: 52.950% (5348/10100)\n",
            "200 500 Train Loss: 1.314 | Acc: 53.393% (10732/20100)\n",
            "300 500 Train Loss: 1.314 | Acc: 53.339% (16055/30100)\n",
            "400 500 Train Loss: 1.316 | Acc: 53.165% (21319/40100)\n",
            "0 100 Testing Loss: 0.862 | Acc: 70.000% (70/100)\n",
            "Test Accuracy of the model on the 10000 test images: 63.44 %\n",
            "\n",
            "Epoch: 6\n",
            "0 500 Train Loss: 1.148 | Acc: 65.000% (65/100)\n",
            "100 500 Train Loss: 1.295 | Acc: 53.871% (5441/10100)\n",
            "200 500 Train Loss: 1.284 | Acc: 54.498% (10954/20100)\n",
            "300 500 Train Loss: 1.288 | Acc: 54.306% (16346/30100)\n",
            "400 500 Train Loss: 1.285 | Acc: 54.274% (21764/40100)\n",
            "0 100 Testing Loss: 0.943 | Acc: 73.000% (73/100)\n",
            "Test Accuracy of the model on the 10000 test images: 63.57 %\n",
            "\n",
            "Epoch: 7\n",
            "0 500 Train Loss: 1.237 | Acc: 60.000% (60/100)\n",
            "100 500 Train Loss: 1.234 | Acc: 56.228% (5679/10100)\n",
            "200 500 Train Loss: 1.245 | Acc: 55.930% (11242/20100)\n",
            "300 500 Train Loss: 1.237 | Acc: 56.186% (16912/30100)\n",
            "400 500 Train Loss: 1.235 | Acc: 56.294% (22574/40100)\n",
            "0 100 Testing Loss: 0.891 | Acc: 71.000% (71/100)\n",
            "Test Accuracy of the model on the 10000 test images: 64.78 %\n",
            "\n",
            "Epoch: 8\n",
            "0 500 Train Loss: 1.327 | Acc: 49.000% (49/100)\n",
            "100 500 Train Loss: 1.218 | Acc: 56.723% (5729/10100)\n",
            "200 500 Train Loss: 1.223 | Acc: 56.502% (11357/20100)\n",
            "300 500 Train Loss: 1.215 | Acc: 56.591% (17034/30100)\n",
            "400 500 Train Loss: 1.215 | Acc: 56.603% (22698/40100)\n",
            "0 100 Testing Loss: 0.903 | Acc: 70.000% (70/100)\n",
            "Test Accuracy of the model on the 10000 test images: 66.03 %\n",
            "\n",
            "Epoch: 9\n",
            "0 500 Train Loss: 1.324 | Acc: 56.000% (56/100)\n",
            "100 500 Train Loss: 1.200 | Acc: 57.931% (5851/10100)\n",
            "200 500 Train Loss: 1.196 | Acc: 57.905% (11639/20100)\n",
            "300 500 Train Loss: 1.201 | Acc: 57.704% (17369/30100)\n",
            "400 500 Train Loss: 1.198 | Acc: 57.686% (23132/40100)\n",
            "0 100 Testing Loss: 0.781 | Acc: 76.000% (76/100)\n",
            "Test Accuracy of the model on the 10000 test images: 69.27 %\n",
            "\n",
            "Epoch: 10\n",
            "0 500 Train Loss: 1.081 | Acc: 57.000% (57/100)\n",
            "100 500 Train Loss: 1.179 | Acc: 58.693% (5928/10100)\n",
            "200 500 Train Loss: 1.179 | Acc: 58.065% (11671/20100)\n",
            "300 500 Train Loss: 1.180 | Acc: 58.252% (17534/30100)\n",
            "400 500 Train Loss: 1.176 | Acc: 58.274% (23368/40100)\n",
            "0 100 Testing Loss: 0.789 | Acc: 79.000% (79/100)\n",
            "Test Accuracy of the model on the 10000 test images: 70.24 %\n",
            "\n",
            "Epoch: 11\n",
            "0 500 Train Loss: 1.208 | Acc: 54.000% (54/100)\n",
            "100 500 Train Loss: 1.144 | Acc: 59.485% (6008/10100)\n",
            "200 500 Train Loss: 1.156 | Acc: 59.085% (11876/20100)\n",
            "300 500 Train Loss: 1.151 | Acc: 59.126% (17797/30100)\n",
            "400 500 Train Loss: 1.151 | Acc: 59.264% (23765/40100)\n",
            "0 100 Testing Loss: 0.800 | Acc: 76.000% (76/100)\n",
            "Test Accuracy of the model on the 10000 test images: 69.18 %\n",
            "\n",
            "Epoch: 12\n",
            "0 500 Train Loss: 1.202 | Acc: 61.000% (61/100)\n",
            "100 500 Train Loss: 1.133 | Acc: 60.040% (6064/10100)\n",
            "200 500 Train Loss: 1.134 | Acc: 59.662% (11992/20100)\n",
            "300 500 Train Loss: 1.134 | Acc: 59.744% (17983/30100)\n",
            "400 500 Train Loss: 1.136 | Acc: 59.835% (23994/40100)\n",
            "0 100 Testing Loss: 0.810 | Acc: 74.000% (74/100)\n",
            "Test Accuracy of the model on the 10000 test images: 69.06 %\n",
            "\n",
            "Epoch: 13\n",
            "0 500 Train Loss: 1.230 | Acc: 50.000% (50/100)\n",
            "100 500 Train Loss: 1.129 | Acc: 60.020% (6062/10100)\n",
            "200 500 Train Loss: 1.135 | Acc: 59.567% (11973/20100)\n",
            "300 500 Train Loss: 1.133 | Acc: 59.914% (18034/30100)\n",
            "400 500 Train Loss: 1.128 | Acc: 60.032% (24073/40100)\n",
            "0 100 Testing Loss: 0.871 | Acc: 72.000% (72/100)\n",
            "Test Accuracy of the model on the 10000 test images: 67.98 %\n",
            "\n",
            "Epoch: 14\n",
            "0 500 Train Loss: 1.139 | Acc: 62.000% (62/100)\n",
            "100 500 Train Loss: 1.123 | Acc: 60.436% (6104/10100)\n",
            "200 500 Train Loss: 1.117 | Acc: 60.348% (12130/20100)\n",
            "300 500 Train Loss: 1.113 | Acc: 60.578% (18234/30100)\n",
            "400 500 Train Loss: 1.116 | Acc: 60.569% (24288/40100)\n",
            "0 100 Testing Loss: 0.703 | Acc: 78.000% (78/100)\n",
            "Test Accuracy of the model on the 10000 test images: 70.66 %\n",
            "\n",
            "Epoch: 15\n",
            "0 500 Train Loss: 1.279 | Acc: 59.000% (59/100)\n",
            "100 500 Train Loss: 1.092 | Acc: 61.297% (6191/10100)\n",
            "200 500 Train Loss: 1.093 | Acc: 61.299% (12321/20100)\n",
            "300 500 Train Loss: 1.099 | Acc: 61.199% (18421/30100)\n",
            "400 500 Train Loss: 1.098 | Acc: 61.274% (24571/40100)\n",
            "0 100 Testing Loss: 0.834 | Acc: 71.000% (71/100)\n",
            "Test Accuracy of the model on the 10000 test images: 71.15 %\n",
            "\n",
            "Epoch: 16\n",
            "0 500 Train Loss: 1.189 | Acc: 56.000% (56/100)\n",
            "100 500 Train Loss: 1.097 | Acc: 60.644% (6125/10100)\n",
            "200 500 Train Loss: 1.088 | Acc: 61.328% (12327/20100)\n",
            "300 500 Train Loss: 1.087 | Acc: 61.326% (18459/30100)\n",
            "400 500 Train Loss: 1.083 | Acc: 61.599% (24701/40100)\n",
            "0 100 Testing Loss: 0.814 | Acc: 72.000% (72/100)\n",
            "Test Accuracy of the model on the 10000 test images: 71.88 %\n",
            "\n",
            "Epoch: 17\n",
            "0 500 Train Loss: 1.042 | Acc: 61.000% (61/100)\n",
            "100 500 Train Loss: 1.073 | Acc: 62.020% (6264/10100)\n",
            "200 500 Train Loss: 1.077 | Acc: 62.055% (12473/20100)\n",
            "300 500 Train Loss: 1.068 | Acc: 62.176% (18715/30100)\n",
            "400 500 Train Loss: 1.071 | Acc: 62.157% (24925/40100)\n",
            "0 100 Testing Loss: 0.734 | Acc: 79.000% (79/100)\n",
            "Test Accuracy of the model on the 10000 test images: 71.0 %\n",
            "\n",
            "Epoch: 18\n",
            "0 500 Train Loss: 0.987 | Acc: 61.000% (61/100)\n",
            "100 500 Train Loss: 1.050 | Acc: 62.950% (6358/10100)\n",
            "200 500 Train Loss: 1.053 | Acc: 62.945% (12652/20100)\n",
            "300 500 Train Loss: 1.056 | Acc: 62.777% (18896/30100)\n",
            "400 500 Train Loss: 1.062 | Acc: 62.601% (25103/40100)\n",
            "0 100 Testing Loss: 0.760 | Acc: 78.000% (78/100)\n",
            "Test Accuracy of the model on the 10000 test images: 72.32 %\n",
            "\n",
            "Epoch: 19\n",
            "0 500 Train Loss: 0.890 | Acc: 67.000% (67/100)\n",
            "100 500 Train Loss: 1.038 | Acc: 63.554% (6419/10100)\n",
            "200 500 Train Loss: 1.050 | Acc: 62.970% (12657/20100)\n",
            "300 500 Train Loss: 1.057 | Acc: 62.641% (18855/30100)\n",
            "400 500 Train Loss: 1.056 | Acc: 62.661% (25127/40100)\n",
            "0 100 Testing Loss: 0.679 | Acc: 75.000% (75/100)\n",
            "Test Accuracy of the model on the 10000 test images: 71.04 %\n"
          ]
        }
      ],
      "source": [
        "best_acc = 0  # best test accuracy\n",
        "start_epoch = 0  # start from epoch 0 or last checkpoint epoch\n",
        "num_classes = 10 # number of classes\n",
        "batch_size = 100\n",
        "num_epochs = 20\n",
        "learning_rate = 0.001\n",
        "accuracy_dict = dict()\n",
        "acc_epochs_train = []\n",
        "acc_epochs_test = []\n",
        "loss_epochs_train = []\n",
        "loss_epochs_test = []\n",
        "model = Model().to(device)\n",
        "criterion = nn.CrossEntropyLoss()\n",
        "optimizer = torch.optim.Adam(model.parameters(), learning_rate)\n",
        "best_acc = 0\n",
        "for epoch in range(start_epoch, start_epoch + num_epochs):\n",
        "    l_tr, acc_tr = train(epoch, model, criterion, optimizer)\n",
        "    l_te, acc_te = test(epoch, model, criterion)\n",
        "    loss_epochs_train.append(l_tr)\n",
        "    acc_epochs_train.append(acc_tr)\n",
        "    loss_epochs_test.append(l_te)\n",
        "    acc_epochs_test.append(acc_te)"
      ]
    },
    {
      "cell_type": "code",
      "execution_count": 31,
      "metadata": {
        "id": "OhQpWWYZ_AjR",
        "outputId": "0a0b1c61-57ef-415c-81b1-ba0cb8189c21"
      },
      "outputs": [
        {
          "data": {
            "image/png": "[encoded data removed]",
            "text/plain": [
              "<Figure size 1000x500 with 1 Axes>"
            ]
          },
          "metadata": {},
          "output_type": "display_data"
        }
      ],
      "source": [
        "import matplotlib.pyplot as plt\n",
        "%matplotlib inline\n",
        "plt.figure(figsize=(10,5))\n",
        "ax = plt.gca()\n",
        "plt.title(\"Accuracy with respect to time (epochs)\", fontsize=15)\n",
        "plt.plot(acc_epochs_train,label=\"Training accuracy\")\n",
        "plt.plot(acc_epochs_test,label=\"Testing accuracy\")\n",
        "plt.xticks([0,5,10,15,20])\n",
        "plt.xlabel(\"Epoch\")\n",
        "plt.ylabel(\"Accuracy\")\n",
        "plt.legend()\n",
        "plt.show()"
      ]
    },
    {
      "cell_type": "markdown",
      "metadata": {
        "id": "ByZSKYrs_AjS"
      },
      "source": [
        "5. A plot containing the **training and testing losses** with respect to time (epochs)."
      ]
    },
    {
      "cell_type": "code",
      "execution_count": 32,
      "metadata": {
        "id": "VWyTN_vt_AjS",
        "outputId": "dfa0a09c-6da9-4855-aa9c-7e8caa48f7b1"
      },
      "outputs": [
        {
          "data": {
            "image/png": "[encoded data removed]",
            "text/plain": [
              "<Figure size 1000x500 with 1 Axes>"
            ]
          },
          "metadata": {},
          "output_type": "display_data"
        }
      ],
      "source": [
        "import matplotlib.pyplot as plt\n",
        "%matplotlib inline\n",
        "plt.figure(figsize=(10,5))\n",
        "ax = plt.gca()\n",
        "plt.title(\"Loss with respect to time (epochs)\", fontsize=15)\n",
        "plt.plot(loss_epochs_train,label=\"Training loss\")\n",
        "plt.plot(loss_epochs_test,label=\"Testing loss\")\n",
        "plt.xticks([0,5,10,15,20])\n",
        "plt.xlabel(\"Epoch\")\n",
        "plt.ylabel(\"Loss\")\n",
        "plt.legend()\n",
        "plt.show()"
      ]
    },
    {
      "cell_type": "markdown",
      "metadata": {
        "id": "MuFRPaiU_AjS"
      },
      "source": [
        "6. Try 2 more learning rates with the Adam optimizer and report the accuracy and F1 score for both."
      ]
    },
    {
      "cell_type": "markdown",
      "metadata": {
        "id": "47aMet71_AjS"
      },
      "source": [
        "**Note:** I trained the following models in `hw-cnn.ipynb` in \"8 - Model Training and Testing\", where I defined I double loop to train models for all the possible combinations of optimizers and learning rates I defined in lists. So in here I am loading the pretrained models."
      ]
    },
    {
      "cell_type": "code",
      "execution_count": 33,
      "metadata": {
        "id": "BKTyl0RO_AjT",
        "outputId": "097e45f2-bf39-46da-8c36-7e9989ed1535"
      },
      "outputs": [
        {
          "name": "stdout",
          "output_type": "stream",
          "text": [
            "accuracy: 36.98%\n",
            "f1-score: 0.3629\n"
          ]
        }
      ],
      "source": [
        "acc, f1 = get_metrics_score_for_pretrained_model('./checkpoint/ckpt_adam_lr_0.01.pth')\n",
        "print(f'accuracy: {acc*100:.2f}%')\n",
        "print(f'f1-score: {f1:.4f}')"
      ]
    },
    {
      "cell_type": "code",
      "execution_count": 34,
      "metadata": {
        "id": "-O4CXKfz_AjT",
        "outputId": "2e80e1d5-7a25-4c7f-cb75-680f3cd9f66c"
      },
      "outputs": [
        {
          "name": "stdout",
          "output_type": "stream",
          "text": [
            "accuracy: 67.83%\n",
            "f1-score: 0.6744\n"
          ]
        }
      ],
      "source": [
        "acc, f1 = get_metrics_score_for_pretrained_model('./checkpoint/ckpt_adam_lr_0.0001.pth')\n",
        "print(f'accuracy: {acc*100:.2f}%')\n",
        "print(f'f1-score: {f1:.4f}')"
      ]
    },
    {
      "cell_type": "markdown",
      "metadata": {
        "id": "guyGeJyb_AjU"
      },
      "source": [
        "7. Try 2 more optimizers with a fixed learning rate of 0.01 and report the accuracy and F1 score for both."
      ]
    },
    {
      "cell_type": "markdown",
      "metadata": {
        "id": "dUXwBJEM_AjV"
      },
      "source": [
        "**Note:** I trained the following models in `hw-cnn.ipynb` in \"8 - Model Training and Testing\", where I defined I double loop to train models for all the possible combinations of optimizers and learning rates I defined in lists. So in here I am loading the pretrained models."
      ]
    },
    {
      "cell_type": "code",
      "execution_count": 35,
      "metadata": {
        "id": "OyyYbQgb_AjV",
        "outputId": "b453cf76-eaa8-4370-f789-8736b0c2636e"
      },
      "outputs": [
        {
          "name": "stdout",
          "output_type": "stream",
          "text": [
            "accuracy: 52.23%\n",
            "f1-score: 0.5107\n"
          ]
        }
      ],
      "source": [
        "acc, f1 = get_metrics_score_for_pretrained_model('./checkpoint/ckpt_sgd_lr_0.01.pth')\n",
        "print(f'accuracy: {acc*100:.2f}%')\n",
        "print(f'f1-score: {f1:.4f}')"
      ]
    },
    {
      "cell_type": "code",
      "execution_count": 36,
      "metadata": {
        "id": "oCvDRDar_AjV",
        "outputId": "18d74205-38a8-4ad1-aeda-732bbfc56f97"
      },
      "outputs": [
        {
          "name": "stdout",
          "output_type": "stream",
          "text": [
            "accuracy: 28.31%\n",
            "f1-score: 0.2690\n"
          ]
        }
      ],
      "source": [
        "acc, f1 = get_metrics_score_for_pretrained_model('./checkpoint/ckpt_rmsprop_lr_0.01.pth')\n",
        "print(f'accuracy: {acc*100:.2f}%')\n",
        "print(f'f1-score: {f1:.4f}')"
      ]
    },
    {
      "cell_type": "markdown",
      "metadata": {
        "id": "4HyriQlS_AjV"
      },
      "source": [
        "8. Trying different learning rates and optimizers is also known as Ablation Study. Organize your results in a table for ease of readability. Please give some insights on the performances of different settings."
      ]
    },
    {
      "cell_type": "markdown",
      "metadata": {
        "id": "KftB6VNt_AjW"
      },
      "source": [
        "**Note:** I trained the following models in `hw-cnn.ipynb` in \"8 - Model Training and Testing\", where I defined I double loop to train models for all the possible combinations of optimizers and learning rates I defined in lists. So in here I am loading the pretrained models."
      ]
    },
    {
      "cell_type": "code",
      "execution_count": 37,
      "metadata": {
        "id": "QaStGkQd_AjX",
        "outputId": "61446b20-cc9b-4364-d843-4226e75dc582"
      },
      "outputs": [
        {
          "name": "stdout",
          "output_type": "stream",
          "text": [
            "Optimizer: sgd Learning rate: 0.01\n",
            "\taccuracy: 52.23%\n",
            "\tf1-score: 0.5107\n",
            "Optimizer: sgd Learning rate: 0.001\n",
            "\taccuracy: 18.99%\n",
            "\tf1-score: 0.1290\n",
            "Optimizer: sgd Learning rate: 0.0001\n",
            "\taccuracy: 12.47%\n",
            "\tf1-score: 0.0399\n",
            "Optimizer: rmsprop Learning rate: 0.01\n",
            "\taccuracy: 28.31%\n",
            "\tf1-score: 0.2690\n",
            "Optimizer: rmsprop Learning rate: 0.001\n",
            "\taccuracy: 71.47%\n",
            "\tf1-score: 0.7105\n",
            "Optimizer: rmsprop Learning rate: 0.0001\n",
            "\taccuracy: 66.56%\n",
            "\tf1-score: 0.6616\n",
            "Optimizer: adam Learning rate: 0.01\n",
            "\taccuracy: 36.98%\n",
            "\tf1-score: 0.3629\n",
            "Optimizer: adam Learning rate: 0.001\n",
            "\taccuracy: 72.34%\n",
            "\tf1-score: 0.7189\n",
            "Optimizer: adam Learning rate: 0.0001\n",
            "\taccuracy: 67.83%\n",
            "\tf1-score: 0.6744\n"
          ]
        }
      ],
      "source": [
        "learning_rates = [0.01, 0.001, 0.0001] # suggested range [1e-2, 1e-4]\n",
        "optimizers = ['sgd', 'rmsprop', 'adam']\n",
        "\n",
        "for optimizer_function in optimizers: # ['sgd', 'rmsprop', 'adam']\n",
        "    for learning_rate in learning_rates:\n",
        "        acc, f1 = get_metrics_score_for_pretrained_model(f'./checkpoint/ckpt_{optimizer_function}_lr_{learning_rate}.pth')\n",
        "        print(f'Optimizer: {optimizer_function} Learning rate: {learning_rate}')\n",
        "        print(f'\\taccuracy: {acc*100:.2f}%')\n",
        "        print(f'\\tf1-score: {f1:.4f}')"
      ]
    },
    {
      "cell_type": "markdown",
      "metadata": {
        "id": "Y0i2pUAD_AjY"
      },
      "source": [
        "| Model | Epochs | Learning rate | Optimizer | Accuracy   | F1-score   |\n",
        "|-------|--------|---------------|-----------|------------|------------|\n",
        "| 1     | 20     | 0.01          | SGD       | 52.23%     | 0.5107    |\n",
        "| 2     | 20     | 0.001         | SGD       | 18.99%     | 0.1290    |\n",
        "| 3     | 20     | 0.0001        | SGD       | 12.47%    | 0.0399   |\n",
        "| 4     | 20     | 0.01          | RMSprop   | 28.31%     | 0.2690     |\n",
        "| _5_   | _20_   | _0.001_       | _RMSprop_ | _71.47%_   | _0.7105_   |\n",
        "| 6     | 20     | 0.0001        | RMSprop   | 66.56%    | 0.6616   |\n",
        "| 7     | 20     | 0.01          | Adam      | 36.98%    | 0.3629  |\n",
        "| **8** | **20** | **0.001**     | **Adam**  | **72.34%** | **0.7189** |\n",
        "| 9     | 20     | 0.0001        | Adam      | 67.83%    | 0.6744     |"
      ]
    },
    {
      "cell_type": "markdown",
      "metadata": {
        "id": "yaL6B857_AjZ"
      },
      "source": [
        "From the ablation study results some insights for the different settings are:\n",
        "- The best model metrics from all the experiments were obtained when training with the Adam optimizer and the learning rate was 0.001. Accuracy = 72.34%; F1-score: 0.7189\n",
        "- The best model using the RMSprop optimizer were obtained when defining 0.001 as the learning rate. Accuracy = 71.47%; F1-score: 0.7105\n",
        "- The best model using the SGD optimizer were obtained when defining 0.01 as the learning rate. Accuracy = 52.23%; F1-score: 0.5107\n",
        "- In the model obtained when training with the SGD optimizer and the learning rate was 0.0001 (small), the metrics were very poor (accuracy = 12.47%  and f1-score = 0.0399). The reason of this might be that the model should need more epochs to learn with that very small learning rate when working with the SGD optimizer.\n",
        "- In the model obtained when training with the Adam optimizer and the learning rate was 0.01 (big), the metrics were very poor (accuracy = 36.98%  and f1-score = 0.3629). The reason of this might be that the model is not capable to converge, that means that the model is not capable to find a local minimum."
      ]
    }
  ],
  "metadata": {
    "colab": {
      "provenance": []
    },
    "kernelspec": {
      "display_name": "684-ml-hw3",
      "language": "python",
      "name": "python3"
    },
    "language_info": {
      "codemirror_mode": {
        "name": "ipython",
        "version": 3
      },
      "file_extension": ".py",
      "mimetype": "text/x-python",
      "name": "python",
      "nbconvert_exporter": "python",
      "pygments_lexer": "ipython3",
      "version": "3.9.6"
    }
  },
  "nbformat": 4,
  "nbformat_minor": 0
}
